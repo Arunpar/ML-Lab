{
  "nbformat": 4,
  "nbformat_minor": 0,
  "metadata": {
    "kernelspec": {
      "name": "python3",
      "display_name": "Python 3"
    },
    "language_info": {
      "mimetype": "text/x-python",
      "nbconvert_exporter": "python",
      "name": "python",
      "pygments_lexer": "ipython3",
      "version": "3.5.4",
      "file_extension": ".py",
      "codemirror_mode": {
        "version": 3,
        "name": "ipython"
      }
    },
    "colab": {
      "name": "Copy of Python_Basics_2.ipynb",
      "provenance": [],
      "collapsed_sections": [],
      "include_colab_link": true
    },
    "accelerator": "GPU"
  },
  "cells": [
    {
      "cell_type": "markdown",
      "metadata": {
        "id": "view-in-github",
        "colab_type": "text"
      },
      "source": [
        "<a href=\"https://colab.research.google.com/github/Arunpar/ML-Lab/blob/master/Copy_of_Python_Basics_2.ipynb\" target=\"_parent\"><img src=\"https://colab.research.google.com/assets/colab-badge.svg\" alt=\"Open In Colab\"/></a>"
      ]
    },
    {
      "cell_type": "markdown",
      "metadata": {
        "id": "ek4PGqxdG5sk",
        "colab_type": "text"
      },
      "source": [
        "### print() function"
      ]
    },
    {
      "cell_type": "code",
      "metadata": {
        "id": "uh1QIwTYH10s",
        "colab_type": "code",
        "colab": {}
      },
      "source": [
        ""
      ],
      "execution_count": 0,
      "outputs": []
    },
    {
      "cell_type": "code",
      "metadata": {
        "trusted": true,
        "id": "opEi0UOgG5sp",
        "colab_type": "code",
        "outputId": "26ce99b7-1013-4e8e-fa99-55e299952453",
        "colab": {
          "base_uri": "https://localhost:8080/",
          "height": 34
        }
      },
      "source": [
        "# First Program\n",
        "print(\"acropolis\")"
      ],
      "execution_count": 1,
      "outputs": [
        {
          "output_type": "stream",
          "text": [
            "acropolis\n"
          ],
          "name": "stdout"
        }
      ]
    },
    {
      "cell_type": "markdown",
      "metadata": {
        "id": "3LOt0pHO_GkC",
        "colab_type": "text"
      },
      "source": [
        ""
      ]
    },
    {
      "cell_type": "code",
      "metadata": {
        "id": "uSMWmtXTsqH2",
        "colab_type": "code",
        "colab": {}
      },
      "source": [
        ""
      ],
      "execution_count": 0,
      "outputs": []
    },
    {
      "cell_type": "markdown",
      "metadata": {
        "id": "PtDg6KhQG5sn",
        "colab_type": "text"
      },
      "source": [
        "### Comments"
      ]
    },
    {
      "cell_type": "markdown",
      "metadata": {
        "id": "-PwiE7I2G5sv",
        "colab_type": "text"
      },
      "source": [
        "### Variables"
      ]
    },
    {
      "cell_type": "code",
      "metadata": {
        "trusted": false,
        "id": "4h_N96TEG5sx",
        "colab_type": "code",
        "outputId": "34fa83ba-af4b-4fcc-cdd0-a02847057dba",
        "colab": {
          "base_uri": "https://localhost:8080/",
          "height": 34
        }
      },
      "source": [
        "# In Python there is no need to mention the data type\n",
        "\n",
        "var1 = 20      # An integer assignment\n",
        "var2 = 4.123   # A floating point\n",
        "var3 = \"India\" # A string\n",
        "\n",
        "print(var1,' ',var2,' ',var3)"
      ],
      "execution_count": 2,
      "outputs": [
        {
          "output_type": "stream",
          "text": [
            "20   4.123   India\n"
          ],
          "name": "stdout"
        }
      ]
    },
    {
      "cell_type": "code",
      "metadata": {
        "id": "9BuTFGIHsl1s",
        "colab_type": "code",
        "colab": {}
      },
      "source": [
        ""
      ],
      "execution_count": 0,
      "outputs": []
    },
    {
      "cell_type": "markdown",
      "metadata": {
        "id": "OJjSBDPUG5s1",
        "colab_type": "text"
      },
      "source": [
        "### Assignment"
      ]
    },
    {
      "cell_type": "code",
      "metadata": {
        "scrolled": true,
        "trusted": false,
        "id": "D_J2d-iLG5s3",
        "colab_type": "code",
        "outputId": "a940b9b8-d4ec-4bd7-dbda-7011e8862e88",
        "colab": {
          "base_uri": "https://localhost:8080/",
          "height": 51
        }
      },
      "source": [
        "# general syntax\n",
        "#variable-name=value\n",
        "\n",
        "# Assigning same value to multiple variables\n",
        "\n",
        "var1 = var2 = var3 = 1\n",
        "print(var1,' ',var2,' ',var3)\n",
        "\n",
        "# Assigning Different values to variable in a single expression\n",
        "\n",
        "var1, var2, var3 = 1, 2.5, \"rupal\"\n",
        "print(var1,' ',var2,' ',var3)\n",
        "\n",
        "# Note: commas can be used for multi-assignments"
      ],
      "execution_count": 3,
      "outputs": [
        {
          "output_type": "stream",
          "text": [
            "1   1   1\n",
            "1   2.5   rupal\n"
          ],
          "name": "stdout"
        }
      ]
    },
    {
      "cell_type": "code",
      "metadata": {
        "id": "Gaq394ter0DP",
        "colab_type": "code",
        "colab": {}
      },
      "source": [
        ""
      ],
      "execution_count": 0,
      "outputs": []
    },
    {
      "cell_type": "markdown",
      "metadata": {
        "id": "xDs1JHtIG5s8",
        "colab_type": "text"
      },
      "source": [
        "### Taking input"
      ]
    },
    {
      "cell_type": "code",
      "metadata": {
        "scrolled": true,
        "trusted": true,
        "id": "56pGA0vmG5s9",
        "colab_type": "code",
        "outputId": "f6456d9b-4788-4893-fac2-bc2e7d24bfc0",
        "colab": {
          "base_uri": "https://localhost:8080/",
          "height": 68
        }
      },
      "source": [
        "firstname = input(\"Enter your first name: \")\n",
        "lastname = input(\"Enter your second name: \")\n",
        "semester = input(\"Enter your semester: \")"
      ],
      "execution_count": 0,
      "outputs": [
        {
          "output_type": "stream",
          "text": [
            "Enter your first name: arif\n",
            "Enter your second name: patel\n",
            "Enter your semester: 6\n"
          ],
          "name": "stdout"
        }
      ]
    },
    {
      "cell_type": "markdown",
      "metadata": {
        "id": "mj-0jPpUr4a8",
        "colab_type": "text"
      },
      "source": [
        "\n"
      ]
    },
    {
      "cell_type": "code",
      "metadata": {
        "trusted": false,
        "id": "U3RV2XeRG5tD",
        "colab_type": "code",
        "outputId": "2ca9b0b5-11c9-4837-f2ec-839456784442",
        "colab": {
          "base_uri": "https://localhost:8080/",
          "height": 51
        }
      },
      "source": [
        "# run below code\n",
        "age = input(\"Enter your age: \")\n",
        "age = int(age)+5\n",
        "print(age)"
      ],
      "execution_count": 4,
      "outputs": [
        {
          "output_type": "stream",
          "text": [
            "Enter your age: 19\n",
            "24\n"
          ],
          "name": "stdout"
        }
      ]
    },
    {
      "cell_type": "markdown",
      "metadata": {
        "id": "MpWzqas4G5tH",
        "colab_type": "text"
      },
      "source": [
        "### Write a program in Python for data type conversion from: \n",
        "- int to string\n",
        "- int to float\n",
        "- string to int\n",
        "- string to float\n",
        "- float to int\n",
        "- float to string"
      ]
    },
    {
      "cell_type": "code",
      "metadata": {
        "trusted": false,
        "id": "EohYaD0jG5tJ",
        "colab_type": "code",
        "outputId": "6f50a2e2-baea-4ab6-c9db-d6b2185d8867",
        "colab": {
          "base_uri": "https://localhost:8080/",
          "height": 119
        }
      },
      "source": [
        "a=10\n",
        "print(str(a))\n",
        "print(float(a))\n",
        "\n",
        "b='20'\n",
        "print(int(b))\n",
        "print(float(b))\n",
        "\n",
        "c=23.56\n",
        "print(int(c))\n",
        "print(str(c))"
      ],
      "execution_count": 5,
      "outputs": [
        {
          "output_type": "stream",
          "text": [
            "10\n",
            "10.0\n",
            "20\n",
            "20.0\n",
            "23\n",
            "23.56\n"
          ],
          "name": "stdout"
        }
      ]
    },
    {
      "cell_type": "markdown",
      "metadata": {
        "id": "3SQpXHpgG5tN",
        "colab_type": "text"
      },
      "source": [
        "### Task1: \n",
        "#### WAP to display your infomation like (full name, branch, university name, age, 12th %, hobbies). Store each value into some meaningful variable.  the ouptput of the program should look like"
      ]
    },
    {
      "cell_type": "code",
      "metadata": {
        "id": "MhXiJm_ajJJr",
        "colab_type": "code",
        "colab": {}
      },
      "source": [
        ""
      ],
      "execution_count": 0,
      "outputs": []
    },
    {
      "cell_type": "code",
      "metadata": {
        "trusted": false,
        "id": "NcmrqUkXG5tQ",
        "colab_type": "code",
        "outputId": "6a4f9d37-8bc2-4d02-e80b-ba38fc3a5a2b",
        "colab": {
          "base_uri": "https://localhost:8080/",
          "height": 221
        }
      },
      "source": [
        "\n",
        "full_name=input(\"Enter your full name: \")\n",
        "branch=input(\"Enter your branch: \")\n",
        "university=input(\"Enter your university: \")\n",
        "age=input(\"Enter your age: \")\n",
        "twelth_per=input(\"Enter your 12%: \")\n",
        "hobbies=input(\"Enter your hobbies: \")\n",
        "print(full_name)\n",
        "print(branch)\n",
        "print(university)\n",
        "print(age)\n",
        "print(twelth_per)\n",
        "print(hobbies)"
      ],
      "execution_count": 6,
      "outputs": [
        {
          "output_type": "stream",
          "text": [
            "Enter your full name: Arun Parmar\n",
            "Enter your branch: CSE\n",
            "Enter your university: RGPV Bhopal\n",
            "Enter your age: 22\n",
            "Enter your 12%: 89\n",
            "Enter your hobbies: Listen to music\n",
            "Arun Parmar\n",
            "CSE\n",
            "RGPV Bhopal\n",
            "22\n",
            "89\n",
            "Listen to music\n"
          ],
          "name": "stdout"
        }
      ]
    },
    {
      "cell_type": "markdown",
      "metadata": {
        "id": "aUn64sgNG5tU",
        "colab_type": "text"
      },
      "source": [
        "### Commmonly used functions \n",
        "- round(n)\n",
        "- format(n, '0.2f')\n",
        "- format(n,',') # put a comma on thousand place\n",
        "- format(n,'b') # print binary of the number, 'o', 'x'\n",
        "\n",
        "- eval(expression)\n",
        "- chr(n)\n",
        "- ord(character)\n",
        "- bin(n), oct(n), hex(n)\n",
        "\n",
        "- #### function on string/character data\n",
        "- isdigit()\n",
        "- isalpha()\n",
        "- isspace()\n",
        "- numeric()\n",
        "- ljust(width)\n",
        "- rjust(width)\n",
        "- cjust(width)"
      ]
    },
    {
      "cell_type": "code",
      "metadata": {
        "scrolled": true,
        "trusted": true,
        "id": "nkRXM4BJG5tV",
        "colab_type": "code",
        "outputId": "2b3db75a-ec12-4869-bc92-89dcd967f29f",
        "colab": {
          "base_uri": "https://localhost:8080/",
          "height": 68
        }
      },
      "source": [
        "# Python3 program to demonstarte \n",
        "# the str.format() method \n",
        "  \n",
        "# using format option in a simple string \n",
        "print (\"{}, A computer science portal for acropolis.\"\n",
        "                        .format(\"acropolis\")) \n",
        "  \n",
        "# using format option for a \n",
        "# value stored in a variable \n",
        "str = \"This article is written in {}\"\n",
        "print (str.format(\"Python\")) \n",
        "  \n",
        "# formatting a string using a numeric constant \n",
        "print (\"Hello, I am {} years old !\".format(20))  "
      ],
      "execution_count": 7,
      "outputs": [
        {
          "output_type": "stream",
          "text": [
            "acropolis, A computer science portal for acropolis.\n",
            "This article is written in Python\n",
            "Hello, I am 20 years old !\n"
          ],
          "name": "stdout"
        }
      ]
    },
    {
      "cell_type": "code",
      "metadata": {
        "trusted": false,
        "id": "m50gn_tsG5tb",
        "colab_type": "code",
        "outputId": "8cc0fd21-dc5d-4d3d-ddd0-6b36fa465009",
        "colab": {
          "base_uri": "https://localhost:8080/",
          "height": 51
        }
      },
      "source": [
        "# Characters and their ASCII value\n",
        "\n",
        "x=68\n",
        "# print character corresponding to x \n",
        "print(chr(x))\n",
        "char='D'\n",
        "# print number corresponding to char\n",
        "print(ord(char))"
      ],
      "execution_count": 0,
      "outputs": [
        {
          "output_type": "stream",
          "text": [
            "D\n",
            "68\n"
          ],
          "name": "stdout"
        }
      ]
    },
    {
      "cell_type": "code",
      "metadata": {
        "trusted": true,
        "id": "b0mbEsRfG5tg",
        "colab_type": "code",
        "outputId": "e14d2a6d-ece1-4a62-d390-3c677eb4c8ca",
        "colab": {
          "base_uri": "https://localhost:8080/",
          "height": 34
        }
      },
      "source": [
        "# write code to print your name 10 times\n",
        "print('ACROPOLIS'*10)"
      ],
      "execution_count": 0,
      "outputs": [
        {
          "output_type": "stream",
          "text": [
            "ACROPOLISACROPOLISACROPOLISACROPOLISACROPOLISACROPOLISACROPOLISACROPOLISACROPOLISACROPOLIS\n"
          ],
          "name": "stdout"
        }
      ]
    },
    {
      "cell_type": "code",
      "metadata": {
        "trusted": true,
        "id": "HQhqPPfaG5tl",
        "colab_type": "code",
        "outputId": "2d757d50-eb5b-4973-8961-f61b2ed6ecd6",
        "colab": {
          "base_uri": "https://localhost:8080/",
          "height": 204
        }
      },
      "source": [
        "for i in range(5):\n",
        "    print(\"*\"*i)\n",
        "\n",
        "# new pattern program\n",
        "print(\"\\n\")\n",
        "for i in range(4,0,-1):\n",
        "  print(\"*\"*i)    "
      ],
      "execution_count": 8,
      "outputs": [
        {
          "output_type": "stream",
          "text": [
            "\n",
            "*\n",
            "**\n",
            "***\n",
            "****\n",
            "\n",
            "\n",
            "****\n",
            "***\n",
            "**\n",
            "*\n"
          ],
          "name": "stdout"
        }
      ]
    },
    {
      "cell_type": "code",
      "metadata": {
        "id": "3-9RKU1psovu",
        "colab_type": "code",
        "outputId": "32dc2795-77b0-4328-eb21-a11fceecf886",
        "colab": {
          "base_uri": "https://localhost:8080/",
          "height": 102
        }
      },
      "source": [
        "for i in range(1,6):\n",
        "  print(\" \"*(6-i),\"*\"*i) "
      ],
      "execution_count": 9,
      "outputs": [
        {
          "output_type": "stream",
          "text": [
            "      *\n",
            "     **\n",
            "    ***\n",
            "   ****\n",
            "  *****\n"
          ],
          "name": "stdout"
        }
      ]
    },
    {
      "cell_type": "code",
      "metadata": {
        "trusted": true,
        "id": "v5QAgvn8G5tp",
        "colab_type": "code",
        "outputId": "73b64159-c95e-43b3-da4a-a1ca470baef5",
        "colab": {
          "base_uri": "https://localhost:8080/",
          "height": 34
        }
      },
      "source": [
        "# use seperator and end with specific symbol\n",
        "a, b, c = 10, 20, 30\n",
        "print(a,b,c,sep=':',end=',')"
      ],
      "execution_count": 10,
      "outputs": [
        {
          "output_type": "stream",
          "text": [
            "10:20:30,"
          ],
          "name": "stdout"
        }
      ]
    },
    {
      "cell_type": "code",
      "metadata": {
        "trusted": true,
        "id": "IxLqu9XZG5tt",
        "colab_type": "code",
        "outputId": "0b18f7cf-30c8-40e9-c6be-326cd07e74db",
        "colab": {
          "base_uri": "https://localhost:8080/",
          "height": 85
        }
      },
      "source": [
        "for i in range(1,5):\n",
        "    print(\" \"*(5-i),\"*\"*i)"
      ],
      "execution_count": 11,
      "outputs": [
        {
          "output_type": "stream",
          "text": [
            "     *\n",
            "    **\n",
            "   ***\n",
            "  ****\n"
          ],
          "name": "stdout"
        }
      ]
    },
    {
      "cell_type": "markdown",
      "metadata": {
        "id": "p29PsNILhUii",
        "colab_type": "text"
      },
      "source": [
        ""
      ]
    },
    {
      "cell_type": "code",
      "metadata": {
        "trusted": false,
        "id": "GFIBWQUtG5tx",
        "colab_type": "code",
        "outputId": "60ca5621-e54a-4c02-9332-a1ecb3bf995e",
        "colab": {
          "base_uri": "https://localhost:8080/",
          "height": 34
        }
      },
      "source": [
        "# unpack characters\n",
        "word = 'PYTHONG'\n",
        "a,b,c,d,e,f,g = word\n",
        "print(a,b,c,d,e,f,g)"
      ],
      "execution_count": 12,
      "outputs": [
        {
          "output_type": "stream",
          "text": [
            "P Y T H O N G\n"
          ],
          "name": "stdout"
        }
      ]
    },
    {
      "cell_type": "markdown",
      "metadata": {
        "id": "XOxjxinfG5t1",
        "colab_type": "text"
      },
      "source": [
        "### Format output"
      ]
    },
    {
      "cell_type": "code",
      "metadata": {
        "colab_type": "code",
        "id": "EJWEn5P4cfOd",
        "trusted": true,
        "outputId": "6d1abd31-7ee4-41c3-99ea-42ae4c4639ae",
        "colab": {
          "base_uri": "https://localhost:8080/",
          "height": 34
        }
      },
      "source": [
        "x = 5 \n",
        "y = 10\n",
        "print('The value of x is {} and y is {}'.format(x,y))"
      ],
      "execution_count": 13,
      "outputs": [
        {
          "output_type": "stream",
          "text": [
            "The value of x is 5 and y is 10\n"
          ],
          "name": "stdout"
        }
      ]
    },
    {
      "cell_type": "code",
      "metadata": {
        "scrolled": true,
        "trusted": false,
        "id": "rohJ0RmQG5t6",
        "colab_type": "code",
        "outputId": "af6fd063-8193-4993-9084-016f7d067401",
        "colab": {
          "base_uri": "https://localhost:8080/",
          "height": 34
        }
      },
      "source": [
        "print('I like {0} and {1}'.format('ice cream','chocolate'))"
      ],
      "execution_count": 0,
      "outputs": [
        {
          "output_type": "stream",
          "text": [
            "I like ice cream and chocolate\n"
          ],
          "name": "stdout"
        }
      ]
    },
    {
      "cell_type": "code",
      "metadata": {
        "scrolled": true,
        "trusted": false,
        "id": "ePTsWKD2G5t-",
        "colab_type": "code",
        "outputId": "bac6a102-0a14-4c02-9bf5-c1a6aa4404fd",
        "colab": {
          "base_uri": "https://localhost:8080/",
          "height": 34
        }
      },
      "source": [
        "print('I like {1} and {0}'.format('ice cream','chocolate'))"
      ],
      "execution_count": 0,
      "outputs": [
        {
          "output_type": "stream",
          "text": [
            "I like chocolate and ice cream\n"
          ],
          "name": "stdout"
        }
      ]
    },
    {
      "cell_type": "code",
      "metadata": {
        "scrolled": true,
        "trusted": false,
        "id": "MHagJ4n_G5uE",
        "colab_type": "code",
        "outputId": "2675dc51-1486-408f-b4c5-e60b269d61e9",
        "colab": {
          "base_uri": "https://localhost:8080/",
          "height": 34
        }
      },
      "source": [
        "print('Hello {name}, {greeting}'.format(greeting = 'Good morning', name = 'Sachin !'))"
      ],
      "execution_count": 0,
      "outputs": [
        {
          "output_type": "stream",
          "text": [
            "Hello Sachin !, Good morning\n"
          ],
          "name": "stdout"
        }
      ]
    },
    {
      "cell_type": "markdown",
      "metadata": {
        "id": "liwzGLgJG5uJ",
        "colab_type": "text"
      },
      "source": [
        "### Task2\n",
        "#### Raman likes tea but he has coffee. Riya likes coffee but has tea. Write a program in python so that both can enjoy what they like."
      ]
    },
    {
      "cell_type": "code",
      "metadata": {
        "trusted": false,
        "id": "KLT5upfKG5uK",
        "colab_type": "code",
        "outputId": "a80ef059-8a60-4ad4-9dcf-126bde8ca0b2",
        "colab": {
          "base_uri": "https://localhost:8080/",
          "height": 34
        }
      },
      "source": [
        "# write your code after this line\n",
        "raman=\"Coffe\"\n",
        "riya=\"Tea\"\n",
        "raman,riya=riya,raman\n",
        "print(f\"Raman likes {raman} and Riya likes {riya}\")"
      ],
      "execution_count": 0,
      "outputs": [
        {
          "output_type": "stream",
          "text": [
            "Raman likes Tea and Riya likes Coffe\n"
          ],
          "name": "stdout"
        }
      ]
    },
    {
      "cell_type": "markdown",
      "metadata": {
        "heading_collapsed": true,
        "id": "S2j-VmN9G5uN",
        "colab_type": "text"
      },
      "source": [
        "### Task3\n",
        "Write a program for following\n",
        "- Input: 'Python'\n",
        "- Output: 642"
      ]
    },
    {
      "cell_type": "code",
      "metadata": {
        "hidden": true,
        "trusted": true,
        "id": "VEgfNycFG5uO",
        "colab_type": "code",
        "outputId": "2c467ab3-072e-4eaa-9ed7-07f572b3a38f",
        "colab": {
          "base_uri": "https://localhost:8080/",
          "height": 34
        }
      },
      "source": [
        "e,f,g,h,i,j='Python'\n",
        "s=ord(e)+ord(f)+ord(g)+ord(h)+ord(i)+ord(j)\n",
        "print(s)"
      ],
      "execution_count": 0,
      "outputs": [
        {
          "output_type": "stream",
          "text": [
            "642\n"
          ],
          "name": "stdout"
        }
      ]
    },
    {
      "cell_type": "markdown",
      "metadata": {
        "id": "DjUR0ktSG5uR",
        "colab_type": "text"
      },
      "source": [
        "# Working with math, calendar, random, datetime"
      ]
    },
    {
      "cell_type": "code",
      "metadata": {
        "trusted": true,
        "id": "y8UbqGZ1G5uS",
        "colab_type": "code",
        "outputId": "2dccfd85-2e13-44f7-9d0c-a91f9d308215",
        "colab": {
          "base_uri": "https://localhost:8080/",
          "height": 85
        }
      },
      "source": [
        "import math\n",
        "print(math.sqrt(9))\n",
        "print(math.floor(10.8))\n",
        "print (math.ceil(10.5))\n",
        "math.pi\n"
      ],
      "execution_count": 0,
      "outputs": [
        {
          "output_type": "stream",
          "text": [
            "3.0\n",
            "10\n",
            "11\n"
          ],
          "name": "stdout"
        },
        {
          "output_type": "execute_result",
          "data": {
            "text/plain": [
              "3.141592653589793"
            ]
          },
          "metadata": {
            "tags": []
          },
          "execution_count": 29
        }
      ]
    },
    {
      "cell_type": "code",
      "metadata": {
        "trusted": false,
        "id": "9Sofw03xG5uW",
        "colab_type": "code",
        "outputId": "7d8a17b2-868e-4268-f7a2-e6aea3382830",
        "colab": {
          "base_uri": "https://localhost:8080/",
          "height": 51
        }
      },
      "source": [
        "import random\n",
        "x = random.random() # generate any random number between 0 and 1\n",
        "print(\"x = \", x)\n",
        "\n",
        "y = random.randint(5,20)# generate any random number between 5 and 20\n",
        "print(\"y = \", y)"
      ],
      "execution_count": 15,
      "outputs": [
        {
          "output_type": "stream",
          "text": [
            "x =  0.9486570742105549\n",
            "y =  14\n"
          ],
          "name": "stdout"
        }
      ]
    },
    {
      "cell_type": "code",
      "metadata": {
        "trusted": false,
        "id": "zJhrO4MyG5uZ",
        "colab_type": "code",
        "outputId": "19b340cc-8351-4f99-bc93-d96889f3273a",
        "colab": {
          "base_uri": "https://localhost:8080/",
          "height": 85
        }
      },
      "source": [
        "import datetime\n",
        "\n",
        "date = datetime.datetime.now().date() # YYYY-MM-DD format\n",
        "year = datetime.datetime.now().year\n",
        "month = datetime.datetime.now().month\n",
        "day = datetime.datetime.now().day\n",
        "\n",
        "print(date)\n",
        "print(year)\n",
        "print(month)\n",
        "print(day)"
      ],
      "execution_count": 0,
      "outputs": [
        {
          "output_type": "stream",
          "text": [
            "2020-01-15\n",
            "2020\n",
            "1\n",
            "15\n"
          ],
          "name": "stdout"
        }
      ]
    },
    {
      "cell_type": "code",
      "metadata": {
        "scrolled": false,
        "trusted": true,
        "id": "cq9pMSf4G5uc",
        "colab_type": "code",
        "outputId": "f03342fd-cbfd-48a2-c3b4-50b3ec56d5f1",
        "colab": {
          "base_uri": "https://localhost:8080/",
          "height": 187
        }
      },
      "source": [
        "import calendar\n",
        "\n",
        "year = int(input(\"Enter Year : \"))\n",
        "month = int(input(\"Enter the Month : \"))\n",
        "\n",
        "print(calendar.month(year, month))"
      ],
      "execution_count": 14,
      "outputs": [
        {
          "output_type": "stream",
          "text": [
            "Enter Year : 1999\n",
            "Enter the Month : 07\n",
            "     July 1999\n",
            "Mo Tu We Th Fr Sa Su\n",
            "          1  2  3  4\n",
            " 5  6  7  8  9 10 11\n",
            "12 13 14 15 16 17 18\n",
            "19 20 21 22 23 24 25\n",
            "26 27 28 29 30 31\n",
            "\n"
          ],
          "name": "stdout"
        }
      ]
    },
    {
      "cell_type": "code",
      "metadata": {
        "id": "-nTzI58dwwq-",
        "colab_type": "code",
        "colab": {}
      },
      "source": [
        ""
      ],
      "execution_count": 0,
      "outputs": []
    }
  ]
}