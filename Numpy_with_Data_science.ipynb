{
  "nbformat": 4,
  "nbformat_minor": 0,
  "metadata": {
    "colab": {
      "name": "Numpy_with_Data_science.ipynb",
      "provenance": [],
      "collapsed_sections": [],
      "include_colab_link": true
    },
    "kernelspec": {
      "name": "python3",
      "display_name": "Python 3"
    }
  },
  "cells": [
    {
      "cell_type": "markdown",
      "metadata": {
        "id": "view-in-github",
        "colab_type": "text"
      },
      "source": [
        "<a href=\"https://colab.research.google.com/github/Arunpar/ML-Lab/blob/master/Numpy_with_Data_science.ipynb\" target=\"_parent\"><img src=\"https://colab.research.google.com/assets/colab-badge.svg\" alt=\"Open In Colab\"/></a>"
      ]
    },
    {
      "cell_type": "markdown",
      "metadata": {
        "id": "r7dYDHUK6X7e",
        "colab_type": "text"
      },
      "source": [
        "#Numpy"
      ]
    },
    {
      "cell_type": "markdown",
      "metadata": {
        "collapsed": true,
        "id": "AIDqeg_X5VCn",
        "colab_type": "text"
      },
      "source": [
        "### Broadcasting\n",
        "* Subject to certain constraints, the smaller array is “broadcast” across the larger array so that they have compatible shapes\n",
        "\n",
        "### NumPy \n",
        "* Numpy is the fundamental package for numerical computing with Python. It contains among other things:\n",
        "* a powerful N-dimensional array object\n",
        "* sophisticated (broadcasting) functions\n",
        "* tools for integrating C/C++ and Fortran code\n",
        "* useful linear algebra, Fourier transform, and random number capabilities"
      ]
    },
    {
      "cell_type": "code",
      "metadata": {
        "id": "sgaUsMm66WSg",
        "colab_type": "code",
        "outputId": "63c349ce-f3c0-4bae-8205-2b4aa89201e3",
        "colab": {
          "base_uri": "https://localhost:8080/",
          "height": 153
        }
      },
      "source": [
        "import numpy as np   # Importing libraries\n",
        "\n",
        "a = np.array([0, 1, 2])\n",
        "b = np.array([5, 5, 5])\n",
        "\n",
        "print(\"Matrix A\\n\", a)\n",
        "print(\"Matrix B\\n\", b)\n",
        "\n",
        "print(\"Regular matrix addition A+B\\n\", a + b)\n",
        "\n",
        "print(\"Addition using Broadcasting A+5\\n\", a + 5)"
      ],
      "execution_count": 0,
      "outputs": [
        {
          "output_type": "stream",
          "text": [
            "Matrix A\n",
            " [0 1 2]\n",
            "Matrix B\n",
            " [5 5 5]\n",
            "Regular matrix addition A+B\n",
            " [5 6 7]\n",
            "Addition using Broadcasting A+5\n",
            " [5 6 7]\n"
          ],
          "name": "stdout"
        }
      ]
    },
    {
      "cell_type": "markdown",
      "metadata": {
        "id": "aYdQzs7c5VC4",
        "colab_type": "text"
      },
      "source": [
        "### Broadcasting Rules\n",
        "When operating on two arrays, NumPy compares their shapes element-wise. It starts with the trailing dimensions, and works its way forward. Two dimensions are compatible when\n",
        "\n",
        "1. they are equal, or\n",
        "2.  one of them is 1\n"
      ]
    },
    {
      "cell_type": "code",
      "metadata": {
        "trusted": true,
        "id": "lTZvt9D45VC7",
        "colab_type": "code",
        "outputId": "88110acf-90a8-415d-ebe1-ee34e75baf1d",
        "colab": {
          "base_uri": "https://localhost:8080/",
          "height": 323
        }
      },
      "source": [
        "# Lets go for a 2D matrix\n",
        "c = np.array([[0, 1, 2],[3, 4, 5],[6, 7, 8]])\n",
        "d = np.array([[1, 2, 3],[1, 2, 3],[1, 2, 3]])\n",
        "\n",
        "e = np.array([1, 2, 3])\n",
        "\n",
        "print(\"Matrix C\\n\", c)\n",
        "print(\"Matrix D\\n\", d)\n",
        "print(\"Matrix E\\n\", e)\n",
        "\n",
        "print(\"Regular matrix addition C+D\\n\", c + d)\n",
        "\n",
        "print(\"Addition using Broadcasting C+E\\n\", c + e)"
      ],
      "execution_count": 0,
      "outputs": [
        {
          "output_type": "stream",
          "text": [
            "Matrix C\n",
            " [[0 1 2]\n",
            " [3 4 5]\n",
            " [6 7 8]]\n",
            "Matrix D\n",
            " [[1 2 3]\n",
            " [1 2 3]\n",
            " [1 2 3]]\n",
            "Matrix E\n",
            " [1 2 3]\n",
            "Regular matrix addition C+D\n",
            " [[ 1  3  5]\n",
            " [ 4  6  8]\n",
            " [ 7  9 11]]\n",
            "Addition using Broadcasting C+E\n",
            " [[ 1  3  5]\n",
            " [ 4  6  8]\n",
            " [ 7  9 11]]\n"
          ],
          "name": "stdout"
        }
      ]
    },
    {
      "cell_type": "code",
      "metadata": {
        "trusted": true,
        "id": "PyCsjXXX5VDE",
        "colab_type": "code",
        "outputId": "3efc9aa7-4ebc-4575-d6a6-b7385a946f6b",
        "colab": {
          "base_uri": "https://localhost:8080/",
          "height": 85
        }
      },
      "source": [
        "M = np.ones((3, 3))\n",
        "print(\"Matrix M:\\n\",M)"
      ],
      "execution_count": 0,
      "outputs": [
        {
          "output_type": "stream",
          "text": [
            "Matrix M:\n",
            " [[1. 1. 1.]\n",
            " [1. 1. 1.]\n",
            " [1. 1. 1.]]\n"
          ],
          "name": "stdout"
        }
      ]
    },
    {
      "cell_type": "code",
      "metadata": {
        "scrolled": true,
        "trusted": true,
        "id": "fRSwDzHH5VDL",
        "colab_type": "code",
        "outputId": "45ec6fe8-6e0e-4ece-93da-f1b359390f2d",
        "colab": {
          "base_uri": "https://localhost:8080/",
          "height": 119
        }
      },
      "source": [
        "print(\"Dimension of M: \",M.shape)\n",
        "print(\"Dimension of a: \",a.shape)\n",
        "print(\"Addition using Broadcasting\")\n",
        "print(M + a)\n",
        "# Broadcasting array with matrix"
      ],
      "execution_count": 0,
      "outputs": [
        {
          "output_type": "stream",
          "text": [
            "Dimension of M:  (3, 3)\n",
            "Dimension of a:  (3,)\n",
            "Addition using Broadcasting\n",
            "[[1. 2. 3.]\n",
            " [1. 2. 3.]\n",
            " [1. 2. 3.]]\n"
          ],
          "name": "stdout"
        }
      ]
    },
    {
      "cell_type": "markdown",
      "metadata": {
        "id": "akRFvz9I5VDU",
        "colab_type": "text"
      },
      "source": [
        "## All in one program"
      ]
    },
    {
      "cell_type": "code",
      "metadata": {
        "trusted": true,
        "id": "08C2gkwE5VDX",
        "colab_type": "code",
        "outputId": "907c492a-2822-4165-9b03-87100510de2e",
        "colab": {
          "base_uri": "https://localhost:8080/",
          "height": 221
        }
      },
      "source": [
        "# Importing libraries\n",
        "import timeit\n",
        "\n",
        "# Usage of builtin functions\n",
        "start = timeit.default_timer()   \n",
        "\n",
        "# Defining a list\n",
        "array_list = [10,11,15,19,21,32]      \n",
        "array_np_list = []\n",
        "\n",
        "# Print the list\n",
        "print(\"Original List\",array_list,\"\\n\")   \n",
        "\n",
        "# Defining a function\n",
        "def prime(num):      \n",
        "    if num > 1:     \n",
        "        \n",
        "        # check for factors\n",
        "        # Iterating a range of numbers\n",
        "        for i in range(2,num):    \n",
        "            if (num % i) == 0:\n",
        "                \n",
        "                # Appending data to list\n",
        "                array_np_list.append(num)           \n",
        "                print(num,\"is not a prime number (\",i,\"times\",num//i,\"is\",num,\")\")\n",
        "                \n",
        "                # Terminating a loop run\n",
        "                break         \n",
        "        else:\n",
        "            print(num,\"is a prime number\")\n",
        "            \n",
        "# Iterating a list\n",
        "for item in array_list:\n",
        "    \n",
        "    # Calling a function\n",
        "    prime(item)         \n",
        "\n",
        "print(\"\\nNon-prime List\",array_np_list,\"\\n\")\n",
        "\n",
        "end = timeit.default_timer()\n",
        "\n",
        "# Computing running time\n",
        "print(\"Time Taken to run the program:\",end - start, \"seconds\")       "
      ],
      "execution_count": 0,
      "outputs": [
        {
          "output_type": "stream",
          "text": [
            "Original List [10, 11, 15, 19, 21, 32] \n",
            "\n",
            "10 is not a prime number ( 2 times 5 is 10 )\n",
            "11 is a prime number\n",
            "15 is not a prime number ( 3 times 5 is 15 )\n",
            "19 is a prime number\n",
            "21 is not a prime number ( 3 times 7 is 21 )\n",
            "32 is not a prime number ( 2 times 16 is 32 )\n",
            "\n",
            "Non-prime List [10, 15, 21, 32] \n",
            "\n",
            "Time Taken to run the program: 0.0048212890000058906 seconds\n"
          ],
          "name": "stdout"
        }
      ]
    },
    {
      "cell_type": "markdown",
      "metadata": {
        "id": "QszN_mM75VDf",
        "colab_type": "text"
      },
      "source": [
        "### Note:\n",
        "* Python is a procedural Language\n",
        "* Two versions of Python 2 vs 3\n",
        "* No braces. i.e. indentation\n",
        "* No need to explicitly mention data type"
      ]
    },
    {
      "cell_type": "markdown",
      "metadata": {
        "id": "gaLMsG9l5VDi",
        "colab_type": "text"
      },
      "source": [
        "## Unvectorized vs Vectorized Implementations"
      ]
    },
    {
      "cell_type": "code",
      "metadata": {
        "trusted": true,
        "id": "3LZQhz6B5VDj",
        "colab_type": "code",
        "outputId": "c3860e0c-9a7c-4c57-dce3-60d23b816b8d",
        "colab": {
          "base_uri": "https://localhost:8080/",
          "height": 136
        }
      },
      "source": [
        "# Importing libraries\n",
        "import numpy as np\n",
        "\n",
        "# Defining matrices\n",
        "mat_a = [[6, 7, 8],[5, 4, 5],[1, 1, 1]]\n",
        "mat_b = [[1, 2, 3],[1, 2, 3],[1, 2, 3]]\n",
        "\n",
        "# Getting a row from matrix\n",
        "def get_row(matrix, row):\n",
        "    return matrix[row]\n",
        "\n",
        "# Getting a coloumn from matrix\n",
        "def get_column(matrix, column_number):\n",
        "    column = []\n",
        " \n",
        "    for i in range(len(matrix)):\n",
        "        column.append(matrix[i][column_number])\n",
        " \n",
        "    return column\n",
        "\n",
        "# Multiply a row with coloumn\n",
        "def unv_dot_product(vector_one, vector_two):\n",
        "    total = 0\n",
        " \n",
        "    if len(vector_one) != len(vector_two):\n",
        "        return total\n",
        " \n",
        "    for i in range(len(vector_one)):\n",
        "        product = vector_one[i] * vector_two[i]\n",
        "        total += product\n",
        " \n",
        "    return total\n",
        "\n",
        "# Multiply two matrixes\n",
        "def matrix_multiplication(matrix_one, matrix_two):\n",
        "    m_rows = len(matrix_one)\n",
        "    p_columns = len(matrix_two[0])\n",
        "    result = []\n",
        "    \n",
        "    for i in range(m_rows):\n",
        "        row_result = []\n",
        " \n",
        "        for j in range(p_columns):\n",
        "            row = get_row(matrix_one, i)\n",
        "            column = get_column(matrix_two, j)\n",
        "            product = unv_dot_product(row, column)\n",
        "            \n",
        "            row_result.append(product) \n",
        "        result.append(row_result)\n",
        "        \n",
        "    return result\n",
        "\n",
        "print(\"Matrix A: \", mat_a,\"\\n\")\n",
        "print(\"Matrix B: \", mat_b,\"\\n\")\n",
        "\n",
        "print(\"Unvectorized Matrix Multiplication\\n\",matrix_multiplication(mat_a,mat_b),\"\\n\")\n"
      ],
      "execution_count": 0,
      "outputs": [
        {
          "output_type": "stream",
          "text": [
            "Matrix A:  [[6, 7, 8], [5, 4, 5], [1, 1, 1]] \n",
            "\n",
            "Matrix B:  [[1, 2, 3], [1, 2, 3], [1, 2, 3]] \n",
            "\n",
            "Unvectorized Matrix Multiplication\n",
            " [[21, 42, 63], [14, 28, 42], [3, 6, 9]] \n",
            "\n"
          ],
          "name": "stdout"
        }
      ]
    },
    {
      "cell_type": "code",
      "metadata": {
        "trusted": true,
        "id": "hMA0PgHr5VDq",
        "colab_type": "code",
        "outputId": "6aea0819-d060-444b-9180-bef588745d8b",
        "colab": {
          "base_uri": "https://localhost:8080/",
          "height": 102
        }
      },
      "source": [
        "# Vectorized Implementation\n",
        "npm_a = np.array(mat_a)\n",
        "npm_b = np.array(mat_b)\n",
        "\n",
        "print(\"Vectorized Matrix Multiplication\\n\",npm_a.dot(npm_b),\"\\n\") \n",
        "# A.dot(B) is a numpy built-in function for dot product"
      ],
      "execution_count": 0,
      "outputs": [
        {
          "output_type": "stream",
          "text": [
            "Vectorized Matrix Multiplication\n",
            " [[21 42 63]\n",
            " [14 28 42]\n",
            " [ 3  6  9]] \n",
            "\n"
          ],
          "name": "stdout"
        }
      ]
    },
    {
      "cell_type": "markdown",
      "metadata": {
        "id": "8_BoEqwZ5VD2",
        "colab_type": "text"
      },
      "source": [
        "### Tip:\n",
        "* Vectorization reduces number of lines of code\n",
        "* Always prefer libraries and avoid coding from scratch"
      ]
    },
    {
      "cell_type": "code",
      "metadata": {
        "id": "Ax63Xg5Q7BsH",
        "colab_type": "code",
        "colab": {}
      },
      "source": [
        ""
      ],
      "execution_count": 0,
      "outputs": []
    },
    {
      "cell_type": "markdown",
      "metadata": {
        "id": "gS78Ntjz5VD5",
        "colab_type": "text"
      },
      "source": [
        "## Essential Python Packages: Numpy, Pandas, Matplotlib"
      ]
    },
    {
      "cell_type": "code",
      "metadata": {
        "trusted": true,
        "id": "tPaiqZS_5VD6",
        "colab_type": "code",
        "colab": {}
      },
      "source": [
        "# Load library\n",
        "import numpy as np"
      ],
      "execution_count": 0,
      "outputs": []
    },
    {
      "cell_type": "code",
      "metadata": {
        "trusted": true,
        "id": "iszjgeRP5VEC",
        "colab_type": "code",
        "outputId": "494b484c-1b1c-48ae-ee63-ed69329a90d0",
        "colab": {
          "base_uri": "https://localhost:8080/",
          "height": 51
        }
      },
      "source": [
        "# Create row vector\n",
        "vector = np.array([1, 2, 3, 4, 5, 6])\n",
        "print(\"Vector:\",vector)\n",
        "\n",
        "# Select second element\n",
        "print(\"Element 2 in Vector is\",vector[1])"
      ],
      "execution_count": 0,
      "outputs": [
        {
          "output_type": "stream",
          "text": [
            "Vector: [1 2 3 4 5 6]\n",
            "Element 2 in Vector is 2\n"
          ],
          "name": "stdout"
        }
      ]
    },
    {
      "cell_type": "code",
      "metadata": {
        "trusted": true,
        "id": "rt3glX8t5VEK",
        "colab_type": "code",
        "outputId": "f29bf9b1-fcce-4190-c41a-bd47b8562f4a",
        "colab": {
          "base_uri": "https://localhost:8080/",
          "height": 153
        }
      },
      "source": [
        "# Create matrix\n",
        "matrix = np.array([[1, 2, 3],\n",
        "                   [4, 5, 6],\n",
        "                   [7, 8, 9]])\n",
        "\n",
        "print(\"Matrix\\n\",matrix)\n",
        "\n",
        "# Select second row\n",
        "print(\"Second row of Matrix\\n\",matrix[1,:])\n",
        "print(\"Third coloumn of Matrix\\n\",matrix[:,2])"
      ],
      "execution_count": 0,
      "outputs": [
        {
          "output_type": "stream",
          "text": [
            "Matrix\n",
            " [[1 2 3]\n",
            " [4 5 6]\n",
            " [7 8 9]]\n",
            "Second row of Matrix\n",
            " [4 5 6]\n",
            "Third coloumn of Matrix\n",
            " [3 6 9]\n"
          ],
          "name": "stdout"
        }
      ]
    },
    {
      "cell_type": "code",
      "metadata": {
        "trusted": true,
        "id": "UINnR2gd5VEQ",
        "colab_type": "code",
        "outputId": "ed686ec7-6714-4980-c9bb-d386bf095705",
        "colab": {
          "base_uri": "https://localhost:8080/",
          "height": 51
        }
      },
      "source": [
        "# Create Tensor\n",
        "tensor = np.array([ [[[1, 1], [1, 1]], [[2, 2], [2, 2]]],\n",
        "                    [[[3, 3], [3, 3]], [[4, 4], [4, 4]]] ])\n",
        "\n",
        "print(\"Tensor\\n\",tensor.shape)"
      ],
      "execution_count": 0,
      "outputs": [
        {
          "output_type": "stream",
          "text": [
            "Tensor\n",
            " (2, 2, 2, 2)\n"
          ],
          "name": "stdout"
        }
      ]
    },
    {
      "cell_type": "markdown",
      "metadata": {
        "id": "DBRhCaVz5VEY",
        "colab_type": "text"
      },
      "source": [
        "### Matrix properties"
      ]
    },
    {
      "cell_type": "code",
      "metadata": {
        "trusted": true,
        "id": "vbqwS0u35VEa",
        "colab_type": "code",
        "outputId": "8c8fe141-4a14-4fcc-a398-67cb2d656fb1",
        "colab": {
          "base_uri": "https://localhost:8080/",
          "height": 153
        }
      },
      "source": [
        "# Create matrix\n",
        "matrix = np.array([[1, 2, 3],\n",
        "                   [4, 5, 6],\n",
        "                   [7, 8, 9]])\n",
        "\n",
        "print(\"Matrix Shape:\",matrix.shape)\n",
        "print(\"Number of elements:\",matrix.size)\n",
        "print(\"Number of dimentions:\",matrix.ndim)\n",
        "print(\"Average of matrix:\",np.mean(matrix))\n",
        "print(\"Maximum number:\",np.max(matrix))\n",
        "print(\"Coloumn with minimum numbers:\",np.min(matrix, axis=1))\n",
        "print(\"Diagnol of matrix:\",matrix.diagonal())\n",
        "print(\"Determinant of matrix:\",np.linalg.det(matrix))"
      ],
      "execution_count": 0,
      "outputs": [
        {
          "output_type": "stream",
          "text": [
            "Matrix Shape: (3, 3)\n",
            "Number of elements: 9\n",
            "Number of dimentions: 2\n",
            "Average of matrix: 5.0\n",
            "Maximum number: 9\n",
            "Coloumn with minimum numbers: [1 4 7]\n",
            "Diagnol of matrix: [1 5 9]\n",
            "Determinant of matrix: 0.0\n"
          ],
          "name": "stdout"
        }
      ]
    },
    {
      "cell_type": "markdown",
      "metadata": {
        "id": "tHFgAsUA5VEn",
        "colab_type": "text"
      },
      "source": [
        "### Matrix Operations"
      ]
    },
    {
      "cell_type": "code",
      "metadata": {
        "trusted": true,
        "id": "RvXRPzj75VEq",
        "colab_type": "code",
        "outputId": "31e0321b-7bf8-494d-baf3-1634cb48729f",
        "colab": {
          "base_uri": "https://localhost:8080/",
          "height": 289
        }
      },
      "source": [
        "print(\"Flattened Matrix\\n\",matrix.flatten())\n",
        "print(\"Reshaping Matrix\\n\",matrix.reshape(9,1))\n",
        "print(\"Transposed Matrix\\n\",matrix.T)"
      ],
      "execution_count": 0,
      "outputs": [
        {
          "output_type": "stream",
          "text": [
            "Flattened Matrix\n",
            " [1 2 3 4 5 6 7 8 9]\n",
            "Reshaping Matrix\n",
            " [[1]\n",
            " [2]\n",
            " [3]\n",
            " [4]\n",
            " [5]\n",
            " [6]\n",
            " [7]\n",
            " [8]\n",
            " [9]]\n",
            "Transposed Matrix\n",
            " [[1 4 7]\n",
            " [2 5 8]\n",
            " [3 6 9]]\n"
          ],
          "name": "stdout"
        }
      ]
    },
    {
      "cell_type": "code",
      "metadata": {
        "trusted": true,
        "id": "sIXcscYP5VEz",
        "colab_type": "code",
        "outputId": "804d6a29-e151-4cce-dea3-c70359c60466",
        "colab": {
          "base_uri": "https://localhost:8080/",
          "height": 221
        }
      },
      "source": [
        "# Create matrix\n",
        "matrix_a = np.array([[1, 1, 1],\n",
        "                     [1, 1, 1],\n",
        "                     [1, 1, 2]])\n",
        "\n",
        "# Create matrix\n",
        "matrix_b = np.array([[1, 3, 1],\n",
        "                     [1, 3, 1],\n",
        "                     [1, 3, 8]])\n",
        "\n",
        "print(\"Matrix Addition\\n\",np.add(matrix_a, matrix_b))\n",
        "print(\"Scalar Multiplication\\n\",np.multiply(matrix_a, matrix_b))\n",
        "print(\"Matrix Multiplication\\n\",np.dot(matrix_a, matrix_b))"
      ],
      "execution_count": 0,
      "outputs": [
        {
          "output_type": "stream",
          "text": [
            "Matrix Addition\n",
            " [[ 2  4  2]\n",
            " [ 2  4  2]\n",
            " [ 2  4 10]]\n",
            "Scalar Multiplication\n",
            " [[ 1  3  1]\n",
            " [ 1  3  1]\n",
            " [ 1  3 16]]\n",
            "Matrix Multiplication\n",
            " [[ 3  9 10]\n",
            " [ 3  9 10]\n",
            " [ 4 12 18]]\n"
          ],
          "name": "stdout"
        }
      ]
    },
    {
      "cell_type": "code",
      "metadata": {
        "id": "I4j2oJ62_s6R",
        "colab_type": "code",
        "outputId": "086839c3-93ae-4ade-9d3f-ab3f4612bc57",
        "colab": {
          "base_uri": "https://localhost:8080/",
          "height": 34
        }
      },
      "source": [
        "x = np.arange(5) \n",
        "print(x)"
      ],
      "execution_count": 0,
      "outputs": [
        {
          "output_type": "stream",
          "text": [
            "[0 1 2 3 4]\n"
          ],
          "name": "stdout"
        }
      ]
    },
    {
      "cell_type": "code",
      "metadata": {
        "id": "HRaF2aIw_0N-",
        "colab_type": "code",
        "outputId": "1acc2964-5e57-4d7a-87cb-c15857256d01",
        "colab": {
          "base_uri": "https://localhost:8080/",
          "height": 34
        }
      },
      "source": [
        "x = np.arange(5, dtype = float)\n",
        "print(x)"
      ],
      "execution_count": 0,
      "outputs": [
        {
          "output_type": "stream",
          "text": [
            "[0. 1. 2. 3. 4.]\n"
          ],
          "name": "stdout"
        }
      ]
    },
    {
      "cell_type": "code",
      "metadata": {
        "id": "UzcbnZn2ADCi",
        "colab_type": "code",
        "outputId": "797fd47f-abf7-4018-e089-043cd9753144",
        "colab": {
          "base_uri": "https://localhost:8080/",
          "height": 34
        }
      },
      "source": [
        "# numbers with difference of 2\n",
        "x = np.arange(10,20,2) \n",
        "print(x)"
      ],
      "execution_count": 0,
      "outputs": [
        {
          "output_type": "stream",
          "text": [
            "[10 12 14 16 18]\n"
          ],
          "name": "stdout"
        }
      ]
    },
    {
      "cell_type": "code",
      "metadata": {
        "id": "YEHgT6nj_8qH",
        "colab_type": "code",
        "outputId": "3f93587a-4d69-40b5-c06b-d5c660e4d9e2",
        "colab": {
          "base_uri": "https://localhost:8080/",
          "height": 34
        }
      },
      "source": [
        "x = np.linspace(10,20,5) \n",
        "print(x)"
      ],
      "execution_count": 0,
      "outputs": [
        {
          "output_type": "stream",
          "text": [
            "[10.  12.5 15.  17.5 20. ]\n"
          ],
          "name": "stdout"
        }
      ]
    },
    {
      "cell_type": "markdown",
      "metadata": {
        "id": "vBGOwjNFCSBx",
        "colab_type": "text"
      },
      "source": [
        "##let's get a rid of statistics with numpy"
      ]
    },
    {
      "cell_type": "code",
      "metadata": {
        "id": "fpRF0qXdCnvq",
        "colab_type": "code",
        "outputId": "331eb1a2-1608-4d37-8e72-830597aea412",
        "colab": {
          "base_uri": "https://localhost:8080/",
          "height": 102
        }
      },
      "source": [
        "# X is a Python List\n",
        "X = [32.32, 56.98, 21.52, 44.32, 55.63, 13.75, 43.47, 43.34]\n",
        "\n",
        "# Sorting the data and printing it.\n",
        "X.sort()\n",
        "print(X)\n",
        "# [13.75, 21.52, 32.32, 43.34, 43.47, 44.32, 55.63, 56.98]\n",
        "\n",
        "# Using NumPy's built-in functions to Find Mean, Median, SD and Variance\n",
        "mean = np.mean(X)\n",
        "median = np.median(X)\n",
        "sd = np.std(X)\n",
        "variance = np.var(X)\n",
        "\n",
        "# Printing the values\n",
        "print(\"Mean\", mean) # 38.91625\n",
        "print(\"Median\", median) # 43.405\n",
        "print(\"Standard Deviation\", sd) # 14.3815654029\n",
        "print(\"Variance\", variance) # 206.829423437"
      ],
      "execution_count": 0,
      "outputs": [
        {
          "output_type": "stream",
          "text": [
            "[13.75, 21.52, 32.32, 43.34, 43.47, 44.32, 55.63, 56.98]\n",
            "Mean 38.91625\n",
            "Median 43.405\n",
            "Standard Deviation 14.381565402886432\n",
            "Variance 206.8294234375\n"
          ],
          "name": "stdout"
        }
      ]
    },
    {
      "cell_type": "markdown",
      "metadata": {
        "id": "3wxS10wa8mA0",
        "colab_type": "text"
      },
      "source": [
        "###The tool min returns the minimum value along a given axis."
      ]
    },
    {
      "cell_type": "code",
      "metadata": {
        "id": "XQ9tbVtf8prv",
        "colab_type": "code",
        "outputId": "c9d0ee4c-b5ae-44ae-edf4-dbdef9d7c2b5",
        "colab": {
          "base_uri": "https://localhost:8080/",
          "height": 51
        }
      },
      "source": [
        "import numpy as np\n",
        "my_array = np.array([[2, 5], \n",
        "                        [3, 7],\n",
        "                        [1, 3],\n",
        "                        [4, 0]])\n",
        "\n",
        "x=np.min(my_array, axis = 1)\n",
        "print(x)\n",
        "print(max(x))\n"
      ],
      "execution_count": 0,
      "outputs": [
        {
          "output_type": "stream",
          "text": [
            "[2 3 1 0]\n",
            "3\n"
          ],
          "name": "stdout"
        }
      ]
    },
    {
      "cell_type": "markdown",
      "metadata": {
        "id": "gsPHk3aq84N9",
        "colab_type": "text"
      },
      "source": [
        "###The tool max returns the maximum value along a given axis."
      ]
    },
    {
      "cell_type": "code",
      "metadata": {
        "id": "56Yc8V6-86mY",
        "colab_type": "code",
        "outputId": "aff903f2-3300-4d09-ae56-e7d2b642e543",
        "colab": {
          "base_uri": "https://localhost:8080/",
          "height": 85
        }
      },
      "source": [
        "import numpy\n",
        "my_array = numpy.array([[2, 5], \n",
        "                        [3, 7],\n",
        "                        [1, 3],\n",
        "                        [4, 0]])\n",
        "\n",
        "print (np.max(my_array, axis = 0))       #Output : [4 7]\n",
        "print (np.max(my_array, axis = 1))         #Output : [5 7 3 4]\n",
        "print (np.max(my_array, axis = None))      #Output : 7\n",
        "print (np.max(my_array))                   #Output : 7"
      ],
      "execution_count": 0,
      "outputs": [
        {
          "output_type": "stream",
          "text": [
            "[4 7]\n",
            "[5 7 3 4]\n",
            "7\n",
            "7\n"
          ],
          "name": "stdout"
        }
      ]
    },
    {
      "cell_type": "code",
      "metadata": {
        "id": "jW75zV2qgSyl",
        "colab_type": "code",
        "outputId": "d1eff49b-54b6-4081-8766-22cb2694ccd3",
        "colab": {
          "base_uri": "https://localhost:8080/",
          "height": 102
        }
      },
      "source": [
        "a = np.array([[1,2], [3, 4], [5, 6]])\n",
        "\n",
        "bool_idx = (a > 2)   # Find the elements of a that are bigger than 2;\n",
        "                     # this returns a numpy array of Booleans of the same\n",
        "                     # shape as a, where each slot of bool_idx tells\n",
        "                     # whether that element of a is > 2.\n",
        "\n",
        "print(bool_idx)      # Prints \"[[False False]\n",
        "                     #          [ True  True]\n",
        "                     #          [ True  True]]\"\n",
        "\n",
        "# We use boolean array indexing to construct a rank 1 array\n",
        "# consisting of the elements of a corresponding to the True values\n",
        "# of bool_idx\n",
        "print(a[bool_idx])  # Prints \"[3 4 5 6]\"\n",
        "\n",
        "# We can do all of the above in a single concise statement:\n",
        "print(a[a > 2])     # Prints \"[3 4 5 6]\""
      ],
      "execution_count": 0,
      "outputs": [
        {
          "output_type": "stream",
          "text": [
            "[[False False]\n",
            " [ True  True]\n",
            " [ True  True]]\n",
            "[3 4 5 6]\n",
            "[3 4 5 6]\n"
          ],
          "name": "stdout"
        }
      ]
    },
    {
      "cell_type": "markdown",
      "metadata": {
        "id": "Ep_yt-3q7YtY",
        "colab_type": "text"
      },
      "source": [
        "#NumPy Challenge\n",
        "### You are given a 2-D array with dimensions N X M.\n",
        "### Your task is to perform the min function over axis 1 and then find the max of that.\n",
        "Sample Input\n",
        "\n",
        "```\n",
        "4 2\n",
        "2 5\n",
        "3 7\n",
        "1 3\n",
        "4 0\n",
        "```\n",
        "\n",
        "This is formatted as code\n",
        "\n",
        "Sample Output\n",
        "\n",
        "3"
      ]
    },
    {
      "cell_type": "code",
      "metadata": {
        "id": "-uHsMxLY-3iL",
        "colab_type": "code",
        "outputId": "05b90200-bfeb-4c57-cb95-0022de544ab7",
        "colab": {
          "base_uri": "https://localhost:8080/",
          "height": 51
        }
      },
      "source": [
        "#Challenge Question \n",
        "import numpy as np\n",
        "a=np.array([[4,2],\n",
        "            [2, 5],\n",
        "            [3, 7],\n",
        "            [1, 3],\n",
        "            [4, 0]])\n",
        "\n",
        "m=np.min(my_array, axis = 1)\n",
        "print (\"Minimum according to axix-1 is : \",m)      \n",
        "print (\"Maximum element from the minimum array is : \",max(m)) "
      ],
      "execution_count": 0,
      "outputs": [
        {
          "output_type": "stream",
          "text": [
            "Minimum according to axix-1 is :  [2 3 1 0]\n",
            "Maximum element from the minimum array is :  3\n"
          ],
          "name": "stdout"
        }
      ]
    },
    {
      "cell_type": "markdown",
      "metadata": {
        "id": "k3kCJ31WgoJx",
        "colab_type": "text"
      },
      "source": [
        "### Pandas"
      ]
    },
    {
      "cell_type": "code",
      "metadata": {
        "trusted": true,
        "id": "5et_dd5fgoJz",
        "colab_type": "code",
        "colab": {}
      },
      "source": [
        "import pandas as pd"
      ],
      "execution_count": 0,
      "outputs": []
    },
    {
      "cell_type": "code",
      "metadata": {
        "trusted": true,
        "id": "4CQiBhkBgoJ5",
        "colab_type": "code",
        "outputId": "e4631dd4-e645-4c22-8ca4-afc8f6adee68",
        "colab": {
          "base_uri": "https://localhost:8080/",
          "height": 343
        }
      },
      "source": [
        "df=pd.read_csv(\"Income.csv\" ,encoding = \"ISO-8859-1\")\n",
        "print(\"Data\\n\")\n",
        "df[:5]\n"
      ],
      "execution_count": 4,
      "outputs": [
        {
          "output_type": "stream",
          "text": [
            "Data\n",
            "\n"
          ],
          "name": "stdout"
        },
        {
          "output_type": "execute_result",
          "data": {
            "text/html": [
              "<div>\n",
              "<style scoped>\n",
              "    .dataframe tbody tr th:only-of-type {\n",
              "        vertical-align: middle;\n",
              "    }\n",
              "\n",
              "    .dataframe tbody tr th {\n",
              "        vertical-align: top;\n",
              "    }\n",
              "\n",
              "    .dataframe thead th {\n",
              "        text-align: right;\n",
              "    }\n",
              "</style>\n",
              "<table border=\"1\" class=\"dataframe\">\n",
              "  <thead>\n",
              "    <tr style=\"text-align: right;\">\n",
              "      <th></th>\n",
              "      <th>id</th>\n",
              "      <th>State_Code</th>\n",
              "      <th>State_Name</th>\n",
              "      <th>State_ab</th>\n",
              "      <th>County</th>\n",
              "      <th>City</th>\n",
              "      <th>Place</th>\n",
              "      <th>Type</th>\n",
              "      <th>Primary</th>\n",
              "      <th>Zip_Code</th>\n",
              "      <th>Area_Code</th>\n",
              "      <th>ALand</th>\n",
              "      <th>AWater</th>\n",
              "      <th>Lat</th>\n",
              "      <th>Lon</th>\n",
              "      <th>Mean</th>\n",
              "      <th>Median</th>\n",
              "      <th>Stdev</th>\n",
              "      <th>sum_w</th>\n",
              "    </tr>\n",
              "  </thead>\n",
              "  <tbody>\n",
              "    <tr>\n",
              "      <th>0</th>\n",
              "      <td>1011000</td>\n",
              "      <td>1</td>\n",
              "      <td>Alabama</td>\n",
              "      <td>AL</td>\n",
              "      <td>Mobile County</td>\n",
              "      <td>Chickasaw</td>\n",
              "      <td>Chickasaw city</td>\n",
              "      <td>City</td>\n",
              "      <td>place</td>\n",
              "      <td>36611</td>\n",
              "      <td>251</td>\n",
              "      <td>10894952</td>\n",
              "      <td>909156</td>\n",
              "      <td>30.771450</td>\n",
              "      <td>-88.079697</td>\n",
              "      <td>38773</td>\n",
              "      <td>30506</td>\n",
              "      <td>33101</td>\n",
              "      <td>1638.260513</td>\n",
              "    </tr>\n",
              "    <tr>\n",
              "      <th>1</th>\n",
              "      <td>1011010</td>\n",
              "      <td>1</td>\n",
              "      <td>Alabama</td>\n",
              "      <td>AL</td>\n",
              "      <td>Barbour County</td>\n",
              "      <td>Louisville</td>\n",
              "      <td>Clio city</td>\n",
              "      <td>City</td>\n",
              "      <td>place</td>\n",
              "      <td>36048</td>\n",
              "      <td>334</td>\n",
              "      <td>26070325</td>\n",
              "      <td>23254</td>\n",
              "      <td>31.708516</td>\n",
              "      <td>-85.611039</td>\n",
              "      <td>37725</td>\n",
              "      <td>19528</td>\n",
              "      <td>43789</td>\n",
              "      <td>258.017685</td>\n",
              "    </tr>\n",
              "    <tr>\n",
              "      <th>2</th>\n",
              "      <td>1011020</td>\n",
              "      <td>1</td>\n",
              "      <td>Alabama</td>\n",
              "      <td>AL</td>\n",
              "      <td>Shelby County</td>\n",
              "      <td>Columbiana</td>\n",
              "      <td>Columbiana city</td>\n",
              "      <td>City</td>\n",
              "      <td>place</td>\n",
              "      <td>35051</td>\n",
              "      <td>205</td>\n",
              "      <td>44835274</td>\n",
              "      <td>261034</td>\n",
              "      <td>33.191452</td>\n",
              "      <td>-86.615618</td>\n",
              "      <td>54606</td>\n",
              "      <td>31930</td>\n",
              "      <td>57348</td>\n",
              "      <td>926.031000</td>\n",
              "    </tr>\n",
              "    <tr>\n",
              "      <th>3</th>\n",
              "      <td>1011030</td>\n",
              "      <td>1</td>\n",
              "      <td>Alabama</td>\n",
              "      <td>AL</td>\n",
              "      <td>Mobile County</td>\n",
              "      <td>Satsuma</td>\n",
              "      <td>Creola city</td>\n",
              "      <td>City</td>\n",
              "      <td>place</td>\n",
              "      <td>36572</td>\n",
              "      <td>251</td>\n",
              "      <td>36878729</td>\n",
              "      <td>2374530</td>\n",
              "      <td>30.874343</td>\n",
              "      <td>-88.009442</td>\n",
              "      <td>63919</td>\n",
              "      <td>52814</td>\n",
              "      <td>47707</td>\n",
              "      <td>378.114619</td>\n",
              "    </tr>\n",
              "    <tr>\n",
              "      <th>4</th>\n",
              "      <td>1011040</td>\n",
              "      <td>1</td>\n",
              "      <td>Alabama</td>\n",
              "      <td>AL</td>\n",
              "      <td>Mobile County</td>\n",
              "      <td>Dauphin Island</td>\n",
              "      <td>Dauphin Island</td>\n",
              "      <td>Town</td>\n",
              "      <td>place</td>\n",
              "      <td>36528</td>\n",
              "      <td>251</td>\n",
              "      <td>16204185</td>\n",
              "      <td>413605152</td>\n",
              "      <td>30.250913</td>\n",
              "      <td>-88.171268</td>\n",
              "      <td>77948</td>\n",
              "      <td>67225</td>\n",
              "      <td>54270</td>\n",
              "      <td>282.320328</td>\n",
              "    </tr>\n",
              "  </tbody>\n",
              "</table>\n",
              "</div>"
            ],
            "text/plain": [
              "        id  State_Code State_Name State_ab  ...   Mean Median  Stdev        sum_w\n",
              "0  1011000           1    Alabama       AL  ...  38773  30506  33101  1638.260513\n",
              "1  1011010           1    Alabama       AL  ...  37725  19528  43789   258.017685\n",
              "2  1011020           1    Alabama       AL  ...  54606  31930  57348   926.031000\n",
              "3  1011030           1    Alabama       AL  ...  63919  52814  47707   378.114619\n",
              "4  1011040           1    Alabama       AL  ...  77948  67225  54270   282.320328\n",
              "\n",
              "[5 rows x 19 columns]"
            ]
          },
          "metadata": {
            "tags": []
          },
          "execution_count": 4
        }
      ]
    },
    {
      "cell_type": "code",
      "metadata": {
        "id": "MbBTThk4tKa3",
        "colab_type": "code",
        "colab": {
          "base_uri": "https://localhost:8080/",
          "height": 643
        },
        "outputId": "e147e47e-1c81-4ad6-e42b-e5363c057b2a"
      },
      "source": [
        "df=pd.read_csv(\"Income.csv\" ,encoding = \"ISO-8859-1\")\n",
        "print(\"Data\\n\")\n",
        "df[:]"
      ],
      "execution_count": 6,
      "outputs": [
        {
          "output_type": "stream",
          "text": [
            "Data\n",
            "\n"
          ],
          "name": "stdout"
        },
        {
          "output_type": "execute_result",
          "data": {
            "text/html": [
              "<div>\n",
              "<style scoped>\n",
              "    .dataframe tbody tr th:only-of-type {\n",
              "        vertical-align: middle;\n",
              "    }\n",
              "\n",
              "    .dataframe tbody tr th {\n",
              "        vertical-align: top;\n",
              "    }\n",
              "\n",
              "    .dataframe thead th {\n",
              "        text-align: right;\n",
              "    }\n",
              "</style>\n",
              "<table border=\"1\" class=\"dataframe\">\n",
              "  <thead>\n",
              "    <tr style=\"text-align: right;\">\n",
              "      <th></th>\n",
              "      <th>id</th>\n",
              "      <th>State_Code</th>\n",
              "      <th>State_Name</th>\n",
              "      <th>State_ab</th>\n",
              "      <th>County</th>\n",
              "      <th>City</th>\n",
              "      <th>Place</th>\n",
              "      <th>Type</th>\n",
              "      <th>Primary</th>\n",
              "      <th>Zip_Code</th>\n",
              "      <th>Area_Code</th>\n",
              "      <th>ALand</th>\n",
              "      <th>AWater</th>\n",
              "      <th>Lat</th>\n",
              "      <th>Lon</th>\n",
              "      <th>Mean</th>\n",
              "      <th>Median</th>\n",
              "      <th>Stdev</th>\n",
              "      <th>sum_w</th>\n",
              "    </tr>\n",
              "  </thead>\n",
              "  <tbody>\n",
              "    <tr>\n",
              "      <th>0</th>\n",
              "      <td>1011000</td>\n",
              "      <td>1</td>\n",
              "      <td>Alabama</td>\n",
              "      <td>AL</td>\n",
              "      <td>Mobile County</td>\n",
              "      <td>Chickasaw</td>\n",
              "      <td>Chickasaw city</td>\n",
              "      <td>City</td>\n",
              "      <td>place</td>\n",
              "      <td>36611</td>\n",
              "      <td>251</td>\n",
              "      <td>10894952</td>\n",
              "      <td>909156</td>\n",
              "      <td>30.771450</td>\n",
              "      <td>-88.079697</td>\n",
              "      <td>38773</td>\n",
              "      <td>30506</td>\n",
              "      <td>33101</td>\n",
              "      <td>1638.260513</td>\n",
              "    </tr>\n",
              "    <tr>\n",
              "      <th>1</th>\n",
              "      <td>1011010</td>\n",
              "      <td>1</td>\n",
              "      <td>Alabama</td>\n",
              "      <td>AL</td>\n",
              "      <td>Barbour County</td>\n",
              "      <td>Louisville</td>\n",
              "      <td>Clio city</td>\n",
              "      <td>City</td>\n",
              "      <td>place</td>\n",
              "      <td>36048</td>\n",
              "      <td>334</td>\n",
              "      <td>26070325</td>\n",
              "      <td>23254</td>\n",
              "      <td>31.708516</td>\n",
              "      <td>-85.611039</td>\n",
              "      <td>37725</td>\n",
              "      <td>19528</td>\n",
              "      <td>43789</td>\n",
              "      <td>258.017685</td>\n",
              "    </tr>\n",
              "    <tr>\n",
              "      <th>2</th>\n",
              "      <td>1011020</td>\n",
              "      <td>1</td>\n",
              "      <td>Alabama</td>\n",
              "      <td>AL</td>\n",
              "      <td>Shelby County</td>\n",
              "      <td>Columbiana</td>\n",
              "      <td>Columbiana city</td>\n",
              "      <td>City</td>\n",
              "      <td>place</td>\n",
              "      <td>35051</td>\n",
              "      <td>205</td>\n",
              "      <td>44835274</td>\n",
              "      <td>261034</td>\n",
              "      <td>33.191452</td>\n",
              "      <td>-86.615618</td>\n",
              "      <td>54606</td>\n",
              "      <td>31930</td>\n",
              "      <td>57348</td>\n",
              "      <td>926.031000</td>\n",
              "    </tr>\n",
              "    <tr>\n",
              "      <th>3</th>\n",
              "      <td>1011030</td>\n",
              "      <td>1</td>\n",
              "      <td>Alabama</td>\n",
              "      <td>AL</td>\n",
              "      <td>Mobile County</td>\n",
              "      <td>Satsuma</td>\n",
              "      <td>Creola city</td>\n",
              "      <td>City</td>\n",
              "      <td>place</td>\n",
              "      <td>36572</td>\n",
              "      <td>251</td>\n",
              "      <td>36878729</td>\n",
              "      <td>2374530</td>\n",
              "      <td>30.874343</td>\n",
              "      <td>-88.009442</td>\n",
              "      <td>63919</td>\n",
              "      <td>52814</td>\n",
              "      <td>47707</td>\n",
              "      <td>378.114619</td>\n",
              "    </tr>\n",
              "    <tr>\n",
              "      <th>4</th>\n",
              "      <td>1011040</td>\n",
              "      <td>1</td>\n",
              "      <td>Alabama</td>\n",
              "      <td>AL</td>\n",
              "      <td>Mobile County</td>\n",
              "      <td>Dauphin Island</td>\n",
              "      <td>Dauphin Island</td>\n",
              "      <td>Town</td>\n",
              "      <td>place</td>\n",
              "      <td>36528</td>\n",
              "      <td>251</td>\n",
              "      <td>16204185</td>\n",
              "      <td>413605152</td>\n",
              "      <td>30.250913</td>\n",
              "      <td>-88.171268</td>\n",
              "      <td>77948</td>\n",
              "      <td>67225</td>\n",
              "      <td>54270</td>\n",
              "      <td>282.320328</td>\n",
              "    </tr>\n",
              "    <tr>\n",
              "      <th>...</th>\n",
              "      <td>...</td>\n",
              "      <td>...</td>\n",
              "      <td>...</td>\n",
              "      <td>...</td>\n",
              "      <td>...</td>\n",
              "      <td>...</td>\n",
              "      <td>...</td>\n",
              "      <td>...</td>\n",
              "      <td>...</td>\n",
              "      <td>...</td>\n",
              "      <td>...</td>\n",
              "      <td>...</td>\n",
              "      <td>...</td>\n",
              "      <td>...</td>\n",
              "      <td>...</td>\n",
              "      <td>...</td>\n",
              "      <td>...</td>\n",
              "      <td>...</td>\n",
              "      <td>...</td>\n",
              "    </tr>\n",
              "    <tr>\n",
              "      <th>32521</th>\n",
              "      <td>720296</td>\n",
              "      <td>72</td>\n",
              "      <td>Puerto Rico</td>\n",
              "      <td>PR</td>\n",
              "      <td>Adjuntas Municipio</td>\n",
              "      <td>Guaynabo</td>\n",
              "      <td>Adjuntas</td>\n",
              "      <td>Track</td>\n",
              "      <td>Track</td>\n",
              "      <td>970</td>\n",
              "      <td>787</td>\n",
              "      <td>589417</td>\n",
              "      <td>1691</td>\n",
              "      <td>18.397925</td>\n",
              "      <td>-66.130633</td>\n",
              "      <td>30649</td>\n",
              "      <td>13729</td>\n",
              "      <td>37977</td>\n",
              "      <td>1321.278082</td>\n",
              "    </tr>\n",
              "    <tr>\n",
              "      <th>32522</th>\n",
              "      <td>7202966</td>\n",
              "      <td>72</td>\n",
              "      <td>Puerto Rico</td>\n",
              "      <td>PR</td>\n",
              "      <td>Adjuntas Municipio</td>\n",
              "      <td>Aguada</td>\n",
              "      <td>Adjuntas</td>\n",
              "      <td>Track</td>\n",
              "      <td>Track</td>\n",
              "      <td>602</td>\n",
              "      <td>787</td>\n",
              "      <td>1801613</td>\n",
              "      <td>795887</td>\n",
              "      <td>18.385424</td>\n",
              "      <td>-67.203310</td>\n",
              "      <td>15520</td>\n",
              "      <td>9923</td>\n",
              "      <td>15541</td>\n",
              "      <td>238.813450</td>\n",
              "    </tr>\n",
              "    <tr>\n",
              "      <th>32523</th>\n",
              "      <td>7202976</td>\n",
              "      <td>72</td>\n",
              "      <td>Puerto Rico</td>\n",
              "      <td>PR</td>\n",
              "      <td>Adjuntas Municipio</td>\n",
              "      <td>Aguada</td>\n",
              "      <td>Adjuntas</td>\n",
              "      <td>Track</td>\n",
              "      <td>Track</td>\n",
              "      <td>602</td>\n",
              "      <td>787</td>\n",
              "      <td>11031227</td>\n",
              "      <td>0</td>\n",
              "      <td>18.356565</td>\n",
              "      <td>-67.180686</td>\n",
              "      <td>41933</td>\n",
              "      <td>34054</td>\n",
              "      <td>31539</td>\n",
              "      <td>313.551070</td>\n",
              "    </tr>\n",
              "    <tr>\n",
              "      <th>32524</th>\n",
              "      <td>7202986</td>\n",
              "      <td>72</td>\n",
              "      <td>Puerto Rico</td>\n",
              "      <td>PR</td>\n",
              "      <td>Adjuntas Municipio</td>\n",
              "      <td>Aguada</td>\n",
              "      <td>Adjuntas</td>\n",
              "      <td>Track</td>\n",
              "      <td>Track</td>\n",
              "      <td>602</td>\n",
              "      <td>787</td>\n",
              "      <td>0</td>\n",
              "      <td>33597561</td>\n",
              "      <td>18.412041</td>\n",
              "      <td>-67.213413</td>\n",
              "      <td>0</td>\n",
              "      <td>0</td>\n",
              "      <td>0</td>\n",
              "      <td>0.000000</td>\n",
              "    </tr>\n",
              "    <tr>\n",
              "      <th>32525</th>\n",
              "      <td>7202996</td>\n",
              "      <td>72</td>\n",
              "      <td>Puerto Rico</td>\n",
              "      <td>PR</td>\n",
              "      <td>Adjuntas Municipio</td>\n",
              "      <td>Aguadilla</td>\n",
              "      <td>Adjuntas</td>\n",
              "      <td>Track</td>\n",
              "      <td>Track</td>\n",
              "      <td>603</td>\n",
              "      <td>787</td>\n",
              "      <td>6476604</td>\n",
              "      <td>2717115</td>\n",
              "      <td>18.478094</td>\n",
              "      <td>-67.160453</td>\n",
              "      <td>28049</td>\n",
              "      <td>20229</td>\n",
              "      <td>33333</td>\n",
              "      <td>512.884803</td>\n",
              "    </tr>\n",
              "  </tbody>\n",
              "</table>\n",
              "<p>32526 rows × 19 columns</p>\n",
              "</div>"
            ],
            "text/plain": [
              "            id  State_Code   State_Name  ... Median  Stdev        sum_w\n",
              "0      1011000           1      Alabama  ...  30506  33101  1638.260513\n",
              "1      1011010           1      Alabama  ...  19528  43789   258.017685\n",
              "2      1011020           1      Alabama  ...  31930  57348   926.031000\n",
              "3      1011030           1      Alabama  ...  52814  47707   378.114619\n",
              "4      1011040           1      Alabama  ...  67225  54270   282.320328\n",
              "...        ...         ...          ...  ...    ...    ...          ...\n",
              "32521   720296          72  Puerto Rico  ...  13729  37977  1321.278082\n",
              "32522  7202966          72  Puerto Rico  ...   9923  15541   238.813450\n",
              "32523  7202976          72  Puerto Rico  ...  34054  31539   313.551070\n",
              "32524  7202986          72  Puerto Rico  ...      0      0     0.000000\n",
              "32525  7202996          72  Puerto Rico  ...  20229  33333   512.884803\n",
              "\n",
              "[32526 rows x 19 columns]"
            ]
          },
          "metadata": {
            "tags": []
          },
          "execution_count": 6
        }
      ]
    },
    {
      "cell_type": "code",
      "metadata": {
        "id": "ZvrYQQafuR64",
        "colab_type": "code",
        "colab": {
          "base_uri": "https://localhost:8080/",
          "height": 165
        },
        "outputId": "67b5a394-51d6-4365-faaa-6796a1aef0f0"
      },
      "source": [
        "df[(df['id'] >1011020) & (df['id'] < 1011050)]"
      ],
      "execution_count": 8,
      "outputs": [
        {
          "output_type": "execute_result",
          "data": {
            "text/html": [
              "<div>\n",
              "<style scoped>\n",
              "    .dataframe tbody tr th:only-of-type {\n",
              "        vertical-align: middle;\n",
              "    }\n",
              "\n",
              "    .dataframe tbody tr th {\n",
              "        vertical-align: top;\n",
              "    }\n",
              "\n",
              "    .dataframe thead th {\n",
              "        text-align: right;\n",
              "    }\n",
              "</style>\n",
              "<table border=\"1\" class=\"dataframe\">\n",
              "  <thead>\n",
              "    <tr style=\"text-align: right;\">\n",
              "      <th></th>\n",
              "      <th>id</th>\n",
              "      <th>State_Code</th>\n",
              "      <th>State_Name</th>\n",
              "      <th>State_ab</th>\n",
              "      <th>County</th>\n",
              "      <th>City</th>\n",
              "      <th>Place</th>\n",
              "      <th>Type</th>\n",
              "      <th>Primary</th>\n",
              "      <th>Zip_Code</th>\n",
              "      <th>Area_Code</th>\n",
              "      <th>ALand</th>\n",
              "      <th>AWater</th>\n",
              "      <th>Lat</th>\n",
              "      <th>Lon</th>\n",
              "      <th>Mean</th>\n",
              "      <th>Median</th>\n",
              "      <th>Stdev</th>\n",
              "      <th>sum_w</th>\n",
              "    </tr>\n",
              "  </thead>\n",
              "  <tbody>\n",
              "    <tr>\n",
              "      <th>3</th>\n",
              "      <td>1011030</td>\n",
              "      <td>1</td>\n",
              "      <td>Alabama</td>\n",
              "      <td>AL</td>\n",
              "      <td>Mobile County</td>\n",
              "      <td>Satsuma</td>\n",
              "      <td>Creola city</td>\n",
              "      <td>City</td>\n",
              "      <td>place</td>\n",
              "      <td>36572</td>\n",
              "      <td>251</td>\n",
              "      <td>36878729</td>\n",
              "      <td>2374530</td>\n",
              "      <td>30.874343</td>\n",
              "      <td>-88.009442</td>\n",
              "      <td>63919</td>\n",
              "      <td>52814</td>\n",
              "      <td>47707</td>\n",
              "      <td>378.114619</td>\n",
              "    </tr>\n",
              "    <tr>\n",
              "      <th>4</th>\n",
              "      <td>1011040</td>\n",
              "      <td>1</td>\n",
              "      <td>Alabama</td>\n",
              "      <td>AL</td>\n",
              "      <td>Mobile County</td>\n",
              "      <td>Dauphin Island</td>\n",
              "      <td>Dauphin Island</td>\n",
              "      <td>Town</td>\n",
              "      <td>place</td>\n",
              "      <td>36528</td>\n",
              "      <td>251</td>\n",
              "      <td>16204185</td>\n",
              "      <td>413605152</td>\n",
              "      <td>30.250913</td>\n",
              "      <td>-88.171268</td>\n",
              "      <td>77948</td>\n",
              "      <td>67225</td>\n",
              "      <td>54270</td>\n",
              "      <td>282.320328</td>\n",
              "    </tr>\n",
              "  </tbody>\n",
              "</table>\n",
              "</div>"
            ],
            "text/plain": [
              "        id  State_Code State_Name State_ab  ...   Mean Median  Stdev       sum_w\n",
              "3  1011030           1    Alabama       AL  ...  63919  52814  47707  378.114619\n",
              "4  1011040           1    Alabama       AL  ...  77948  67225  54270  282.320328\n",
              "\n",
              "[2 rows x 19 columns]"
            ]
          },
          "metadata": {
            "tags": []
          },
          "execution_count": 8
        }
      ]
    },
    {
      "cell_type": "code",
      "metadata": {
        "trusted": true,
        "id": "Nzg1aTM2goJ_",
        "colab_type": "code",
        "outputId": "b01939c0-689b-43ca-ca02-a1f08ec13b86",
        "colab": {
          "base_uri": "https://localhost:8080/",
          "height": 247
        }
      },
      "source": [
        "print(\"Top Elements\\n\")\n",
        "df.head(3)"
      ],
      "execution_count": 9,
      "outputs": [
        {
          "output_type": "stream",
          "text": [
            "Top Elements\n",
            "\n"
          ],
          "name": "stdout"
        },
        {
          "output_type": "execute_result",
          "data": {
            "text/html": [
              "<div>\n",
              "<style scoped>\n",
              "    .dataframe tbody tr th:only-of-type {\n",
              "        vertical-align: middle;\n",
              "    }\n",
              "\n",
              "    .dataframe tbody tr th {\n",
              "        vertical-align: top;\n",
              "    }\n",
              "\n",
              "    .dataframe thead th {\n",
              "        text-align: right;\n",
              "    }\n",
              "</style>\n",
              "<table border=\"1\" class=\"dataframe\">\n",
              "  <thead>\n",
              "    <tr style=\"text-align: right;\">\n",
              "      <th></th>\n",
              "      <th>id</th>\n",
              "      <th>State_Code</th>\n",
              "      <th>State_Name</th>\n",
              "      <th>State_ab</th>\n",
              "      <th>County</th>\n",
              "      <th>City</th>\n",
              "      <th>Place</th>\n",
              "      <th>Type</th>\n",
              "      <th>Primary</th>\n",
              "      <th>Zip_Code</th>\n",
              "      <th>Area_Code</th>\n",
              "      <th>ALand</th>\n",
              "      <th>AWater</th>\n",
              "      <th>Lat</th>\n",
              "      <th>Lon</th>\n",
              "      <th>Mean</th>\n",
              "      <th>Median</th>\n",
              "      <th>Stdev</th>\n",
              "      <th>sum_w</th>\n",
              "    </tr>\n",
              "  </thead>\n",
              "  <tbody>\n",
              "    <tr>\n",
              "      <th>0</th>\n",
              "      <td>1011000</td>\n",
              "      <td>1</td>\n",
              "      <td>Alabama</td>\n",
              "      <td>AL</td>\n",
              "      <td>Mobile County</td>\n",
              "      <td>Chickasaw</td>\n",
              "      <td>Chickasaw city</td>\n",
              "      <td>City</td>\n",
              "      <td>place</td>\n",
              "      <td>36611</td>\n",
              "      <td>251</td>\n",
              "      <td>10894952</td>\n",
              "      <td>909156</td>\n",
              "      <td>30.771450</td>\n",
              "      <td>-88.079697</td>\n",
              "      <td>38773</td>\n",
              "      <td>30506</td>\n",
              "      <td>33101</td>\n",
              "      <td>1638.260513</td>\n",
              "    </tr>\n",
              "    <tr>\n",
              "      <th>1</th>\n",
              "      <td>1011010</td>\n",
              "      <td>1</td>\n",
              "      <td>Alabama</td>\n",
              "      <td>AL</td>\n",
              "      <td>Barbour County</td>\n",
              "      <td>Louisville</td>\n",
              "      <td>Clio city</td>\n",
              "      <td>City</td>\n",
              "      <td>place</td>\n",
              "      <td>36048</td>\n",
              "      <td>334</td>\n",
              "      <td>26070325</td>\n",
              "      <td>23254</td>\n",
              "      <td>31.708516</td>\n",
              "      <td>-85.611039</td>\n",
              "      <td>37725</td>\n",
              "      <td>19528</td>\n",
              "      <td>43789</td>\n",
              "      <td>258.017685</td>\n",
              "    </tr>\n",
              "    <tr>\n",
              "      <th>2</th>\n",
              "      <td>1011020</td>\n",
              "      <td>1</td>\n",
              "      <td>Alabama</td>\n",
              "      <td>AL</td>\n",
              "      <td>Shelby County</td>\n",
              "      <td>Columbiana</td>\n",
              "      <td>Columbiana city</td>\n",
              "      <td>City</td>\n",
              "      <td>place</td>\n",
              "      <td>35051</td>\n",
              "      <td>205</td>\n",
              "      <td>44835274</td>\n",
              "      <td>261034</td>\n",
              "      <td>33.191452</td>\n",
              "      <td>-86.615618</td>\n",
              "      <td>54606</td>\n",
              "      <td>31930</td>\n",
              "      <td>57348</td>\n",
              "      <td>926.031000</td>\n",
              "    </tr>\n",
              "  </tbody>\n",
              "</table>\n",
              "</div>"
            ],
            "text/plain": [
              "        id  State_Code State_Name State_ab  ...   Mean Median  Stdev        sum_w\n",
              "0  1011000           1    Alabama       AL  ...  38773  30506  33101  1638.260513\n",
              "1  1011010           1    Alabama       AL  ...  37725  19528  43789   258.017685\n",
              "2  1011020           1    Alabama       AL  ...  54606  31930  57348   926.031000\n",
              "\n",
              "[3 rows x 19 columns]"
            ]
          },
          "metadata": {
            "tags": []
          },
          "execution_count": 9
        }
      ]
    },
    {
      "cell_type": "code",
      "metadata": {
        "trusted": true,
        "id": "HDj9UkVagoKF",
        "colab_type": "code",
        "outputId": "69a02d2e-2bef-4841-e929-a1cfaaa08f67",
        "colab": {
          "base_uri": "https://localhost:8080/",
          "height": 247
        }
      },
      "source": [
        "print(\"Bottom Elements\\n\")\n",
        "df.tail(3)"
      ],
      "execution_count": 10,
      "outputs": [
        {
          "output_type": "stream",
          "text": [
            "Bottom Elements\n",
            "\n"
          ],
          "name": "stdout"
        },
        {
          "output_type": "execute_result",
          "data": {
            "text/html": [
              "<div>\n",
              "<style scoped>\n",
              "    .dataframe tbody tr th:only-of-type {\n",
              "        vertical-align: middle;\n",
              "    }\n",
              "\n",
              "    .dataframe tbody tr th {\n",
              "        vertical-align: top;\n",
              "    }\n",
              "\n",
              "    .dataframe thead th {\n",
              "        text-align: right;\n",
              "    }\n",
              "</style>\n",
              "<table border=\"1\" class=\"dataframe\">\n",
              "  <thead>\n",
              "    <tr style=\"text-align: right;\">\n",
              "      <th></th>\n",
              "      <th>id</th>\n",
              "      <th>State_Code</th>\n",
              "      <th>State_Name</th>\n",
              "      <th>State_ab</th>\n",
              "      <th>County</th>\n",
              "      <th>City</th>\n",
              "      <th>Place</th>\n",
              "      <th>Type</th>\n",
              "      <th>Primary</th>\n",
              "      <th>Zip_Code</th>\n",
              "      <th>Area_Code</th>\n",
              "      <th>ALand</th>\n",
              "      <th>AWater</th>\n",
              "      <th>Lat</th>\n",
              "      <th>Lon</th>\n",
              "      <th>Mean</th>\n",
              "      <th>Median</th>\n",
              "      <th>Stdev</th>\n",
              "      <th>sum_w</th>\n",
              "    </tr>\n",
              "  </thead>\n",
              "  <tbody>\n",
              "    <tr>\n",
              "      <th>32523</th>\n",
              "      <td>7202976</td>\n",
              "      <td>72</td>\n",
              "      <td>Puerto Rico</td>\n",
              "      <td>PR</td>\n",
              "      <td>Adjuntas Municipio</td>\n",
              "      <td>Aguada</td>\n",
              "      <td>Adjuntas</td>\n",
              "      <td>Track</td>\n",
              "      <td>Track</td>\n",
              "      <td>602</td>\n",
              "      <td>787</td>\n",
              "      <td>11031227</td>\n",
              "      <td>0</td>\n",
              "      <td>18.356565</td>\n",
              "      <td>-67.180686</td>\n",
              "      <td>41933</td>\n",
              "      <td>34054</td>\n",
              "      <td>31539</td>\n",
              "      <td>313.551070</td>\n",
              "    </tr>\n",
              "    <tr>\n",
              "      <th>32524</th>\n",
              "      <td>7202986</td>\n",
              "      <td>72</td>\n",
              "      <td>Puerto Rico</td>\n",
              "      <td>PR</td>\n",
              "      <td>Adjuntas Municipio</td>\n",
              "      <td>Aguada</td>\n",
              "      <td>Adjuntas</td>\n",
              "      <td>Track</td>\n",
              "      <td>Track</td>\n",
              "      <td>602</td>\n",
              "      <td>787</td>\n",
              "      <td>0</td>\n",
              "      <td>33597561</td>\n",
              "      <td>18.412041</td>\n",
              "      <td>-67.213413</td>\n",
              "      <td>0</td>\n",
              "      <td>0</td>\n",
              "      <td>0</td>\n",
              "      <td>0.000000</td>\n",
              "    </tr>\n",
              "    <tr>\n",
              "      <th>32525</th>\n",
              "      <td>7202996</td>\n",
              "      <td>72</td>\n",
              "      <td>Puerto Rico</td>\n",
              "      <td>PR</td>\n",
              "      <td>Adjuntas Municipio</td>\n",
              "      <td>Aguadilla</td>\n",
              "      <td>Adjuntas</td>\n",
              "      <td>Track</td>\n",
              "      <td>Track</td>\n",
              "      <td>603</td>\n",
              "      <td>787</td>\n",
              "      <td>6476604</td>\n",
              "      <td>2717115</td>\n",
              "      <td>18.478094</td>\n",
              "      <td>-67.160453</td>\n",
              "      <td>28049</td>\n",
              "      <td>20229</td>\n",
              "      <td>33333</td>\n",
              "      <td>512.884803</td>\n",
              "    </tr>\n",
              "  </tbody>\n",
              "</table>\n",
              "</div>"
            ],
            "text/plain": [
              "            id  State_Code   State_Name  ... Median  Stdev       sum_w\n",
              "32523  7202976          72  Puerto Rico  ...  34054  31539  313.551070\n",
              "32524  7202986          72  Puerto Rico  ...      0      0    0.000000\n",
              "32525  7202996          72  Puerto Rico  ...  20229  33333  512.884803\n",
              "\n",
              "[3 rows x 19 columns]"
            ]
          },
          "metadata": {
            "tags": []
          },
          "execution_count": 10
        }
      ]
    },
    {
      "cell_type": "code",
      "metadata": {
        "trusted": true,
        "id": "n71GdeBkgoKK",
        "colab_type": "code",
        "outputId": "da053686-a231-457a-d0d7-36b7083aca2b",
        "colab": {
          "base_uri": "https://localhost:8080/",
          "height": 119
        }
      },
      "source": [
        "print(\"Specific Coloumn\\n\")\n",
        "df['State_Name'].head(3)"
      ],
      "execution_count": 12,
      "outputs": [
        {
          "output_type": "stream",
          "text": [
            "Specific Coloumn\n",
            "\n"
          ],
          "name": "stdout"
        },
        {
          "output_type": "execute_result",
          "data": {
            "text/plain": [
              "0    Alabama\n",
              "1    Alabama\n",
              "2    Alabama\n",
              "Name: State_Name, dtype: object"
            ]
          },
          "metadata": {
            "tags": []
          },
          "execution_count": 12
        }
      ]
    },
    {
      "cell_type": "code",
      "metadata": {
        "trusted": true,
        "id": "3ZkUSPhOgoKP",
        "colab_type": "code",
        "outputId": "24b2c170-47d7-4ff5-85ab-53f3efa77c2b",
        "colab": {
          "base_uri": "https://localhost:8080/",
          "height": 643
        }
      },
      "source": [
        "import numpy as np\n",
        "print(\"Replace negative numbers with NaN\\n\")\n",
        "df.replace(-999,np.nan)"
      ],
      "execution_count": 17,
      "outputs": [
        {
          "output_type": "stream",
          "text": [
            "Replace negative numbers with NaN\n",
            "\n"
          ],
          "name": "stdout"
        },
        {
          "output_type": "execute_result",
          "data": {
            "text/html": [
              "<div>\n",
              "<style scoped>\n",
              "    .dataframe tbody tr th:only-of-type {\n",
              "        vertical-align: middle;\n",
              "    }\n",
              "\n",
              "    .dataframe tbody tr th {\n",
              "        vertical-align: top;\n",
              "    }\n",
              "\n",
              "    .dataframe thead th {\n",
              "        text-align: right;\n",
              "    }\n",
              "</style>\n",
              "<table border=\"1\" class=\"dataframe\">\n",
              "  <thead>\n",
              "    <tr style=\"text-align: right;\">\n",
              "      <th></th>\n",
              "      <th>id</th>\n",
              "      <th>State_Code</th>\n",
              "      <th>State_Name</th>\n",
              "      <th>State_ab</th>\n",
              "      <th>County</th>\n",
              "      <th>City</th>\n",
              "      <th>Place</th>\n",
              "      <th>Type</th>\n",
              "      <th>Primary</th>\n",
              "      <th>Zip_Code</th>\n",
              "      <th>Area_Code</th>\n",
              "      <th>ALand</th>\n",
              "      <th>AWater</th>\n",
              "      <th>Lat</th>\n",
              "      <th>Lon</th>\n",
              "      <th>Mean</th>\n",
              "      <th>Median</th>\n",
              "      <th>Stdev</th>\n",
              "      <th>sum_w</th>\n",
              "    </tr>\n",
              "  </thead>\n",
              "  <tbody>\n",
              "    <tr>\n",
              "      <th>0</th>\n",
              "      <td>1011000</td>\n",
              "      <td>1</td>\n",
              "      <td>Alabama</td>\n",
              "      <td>AL</td>\n",
              "      <td>Mobile County</td>\n",
              "      <td>Chickasaw</td>\n",
              "      <td>Chickasaw city</td>\n",
              "      <td>City</td>\n",
              "      <td>place</td>\n",
              "      <td>36611</td>\n",
              "      <td>251</td>\n",
              "      <td>10894952</td>\n",
              "      <td>909156</td>\n",
              "      <td>30.771450</td>\n",
              "      <td>-88.079697</td>\n",
              "      <td>38773</td>\n",
              "      <td>30506</td>\n",
              "      <td>33101</td>\n",
              "      <td>1638.260513</td>\n",
              "    </tr>\n",
              "    <tr>\n",
              "      <th>1</th>\n",
              "      <td>1011010</td>\n",
              "      <td>1</td>\n",
              "      <td>Alabama</td>\n",
              "      <td>AL</td>\n",
              "      <td>Barbour County</td>\n",
              "      <td>Louisville</td>\n",
              "      <td>Clio city</td>\n",
              "      <td>City</td>\n",
              "      <td>place</td>\n",
              "      <td>36048</td>\n",
              "      <td>334</td>\n",
              "      <td>26070325</td>\n",
              "      <td>23254</td>\n",
              "      <td>31.708516</td>\n",
              "      <td>-85.611039</td>\n",
              "      <td>37725</td>\n",
              "      <td>19528</td>\n",
              "      <td>43789</td>\n",
              "      <td>258.017685</td>\n",
              "    </tr>\n",
              "    <tr>\n",
              "      <th>2</th>\n",
              "      <td>1011020</td>\n",
              "      <td>1</td>\n",
              "      <td>Alabama</td>\n",
              "      <td>AL</td>\n",
              "      <td>Shelby County</td>\n",
              "      <td>Columbiana</td>\n",
              "      <td>Columbiana city</td>\n",
              "      <td>City</td>\n",
              "      <td>place</td>\n",
              "      <td>35051</td>\n",
              "      <td>205</td>\n",
              "      <td>44835274</td>\n",
              "      <td>261034</td>\n",
              "      <td>33.191452</td>\n",
              "      <td>-86.615618</td>\n",
              "      <td>54606</td>\n",
              "      <td>31930</td>\n",
              "      <td>57348</td>\n",
              "      <td>926.031000</td>\n",
              "    </tr>\n",
              "    <tr>\n",
              "      <th>3</th>\n",
              "      <td>1011030</td>\n",
              "      <td>1</td>\n",
              "      <td>Alabama</td>\n",
              "      <td>AL</td>\n",
              "      <td>Mobile County</td>\n",
              "      <td>Satsuma</td>\n",
              "      <td>Creola city</td>\n",
              "      <td>City</td>\n",
              "      <td>place</td>\n",
              "      <td>36572</td>\n",
              "      <td>251</td>\n",
              "      <td>36878729</td>\n",
              "      <td>2374530</td>\n",
              "      <td>30.874343</td>\n",
              "      <td>-88.009442</td>\n",
              "      <td>63919</td>\n",
              "      <td>52814</td>\n",
              "      <td>47707</td>\n",
              "      <td>378.114619</td>\n",
              "    </tr>\n",
              "    <tr>\n",
              "      <th>4</th>\n",
              "      <td>1011040</td>\n",
              "      <td>1</td>\n",
              "      <td>Alabama</td>\n",
              "      <td>AL</td>\n",
              "      <td>Mobile County</td>\n",
              "      <td>Dauphin Island</td>\n",
              "      <td>Dauphin Island</td>\n",
              "      <td>Town</td>\n",
              "      <td>place</td>\n",
              "      <td>36528</td>\n",
              "      <td>251</td>\n",
              "      <td>16204185</td>\n",
              "      <td>413605152</td>\n",
              "      <td>30.250913</td>\n",
              "      <td>-88.171268</td>\n",
              "      <td>77948</td>\n",
              "      <td>67225</td>\n",
              "      <td>54270</td>\n",
              "      <td>282.320328</td>\n",
              "    </tr>\n",
              "    <tr>\n",
              "      <th>...</th>\n",
              "      <td>...</td>\n",
              "      <td>...</td>\n",
              "      <td>...</td>\n",
              "      <td>...</td>\n",
              "      <td>...</td>\n",
              "      <td>...</td>\n",
              "      <td>...</td>\n",
              "      <td>...</td>\n",
              "      <td>...</td>\n",
              "      <td>...</td>\n",
              "      <td>...</td>\n",
              "      <td>...</td>\n",
              "      <td>...</td>\n",
              "      <td>...</td>\n",
              "      <td>...</td>\n",
              "      <td>...</td>\n",
              "      <td>...</td>\n",
              "      <td>...</td>\n",
              "      <td>...</td>\n",
              "    </tr>\n",
              "    <tr>\n",
              "      <th>32521</th>\n",
              "      <td>720296</td>\n",
              "      <td>72</td>\n",
              "      <td>Puerto Rico</td>\n",
              "      <td>PR</td>\n",
              "      <td>Adjuntas Municipio</td>\n",
              "      <td>Guaynabo</td>\n",
              "      <td>Adjuntas</td>\n",
              "      <td>Track</td>\n",
              "      <td>Track</td>\n",
              "      <td>970</td>\n",
              "      <td>787</td>\n",
              "      <td>589417</td>\n",
              "      <td>1691</td>\n",
              "      <td>18.397925</td>\n",
              "      <td>-66.130633</td>\n",
              "      <td>30649</td>\n",
              "      <td>13729</td>\n",
              "      <td>37977</td>\n",
              "      <td>1321.278082</td>\n",
              "    </tr>\n",
              "    <tr>\n",
              "      <th>32522</th>\n",
              "      <td>7202966</td>\n",
              "      <td>72</td>\n",
              "      <td>Puerto Rico</td>\n",
              "      <td>PR</td>\n",
              "      <td>Adjuntas Municipio</td>\n",
              "      <td>Aguada</td>\n",
              "      <td>Adjuntas</td>\n",
              "      <td>Track</td>\n",
              "      <td>Track</td>\n",
              "      <td>602</td>\n",
              "      <td>787</td>\n",
              "      <td>1801613</td>\n",
              "      <td>795887</td>\n",
              "      <td>18.385424</td>\n",
              "      <td>-67.203310</td>\n",
              "      <td>15520</td>\n",
              "      <td>9923</td>\n",
              "      <td>15541</td>\n",
              "      <td>238.813450</td>\n",
              "    </tr>\n",
              "    <tr>\n",
              "      <th>32523</th>\n",
              "      <td>7202976</td>\n",
              "      <td>72</td>\n",
              "      <td>Puerto Rico</td>\n",
              "      <td>PR</td>\n",
              "      <td>Adjuntas Municipio</td>\n",
              "      <td>Aguada</td>\n",
              "      <td>Adjuntas</td>\n",
              "      <td>Track</td>\n",
              "      <td>Track</td>\n",
              "      <td>602</td>\n",
              "      <td>787</td>\n",
              "      <td>11031227</td>\n",
              "      <td>0</td>\n",
              "      <td>18.356565</td>\n",
              "      <td>-67.180686</td>\n",
              "      <td>41933</td>\n",
              "      <td>34054</td>\n",
              "      <td>31539</td>\n",
              "      <td>313.551070</td>\n",
              "    </tr>\n",
              "    <tr>\n",
              "      <th>32524</th>\n",
              "      <td>7202986</td>\n",
              "      <td>72</td>\n",
              "      <td>Puerto Rico</td>\n",
              "      <td>PR</td>\n",
              "      <td>Adjuntas Municipio</td>\n",
              "      <td>Aguada</td>\n",
              "      <td>Adjuntas</td>\n",
              "      <td>Track</td>\n",
              "      <td>Track</td>\n",
              "      <td>602</td>\n",
              "      <td>787</td>\n",
              "      <td>0</td>\n",
              "      <td>33597561</td>\n",
              "      <td>18.412041</td>\n",
              "      <td>-67.213413</td>\n",
              "      <td>0</td>\n",
              "      <td>0</td>\n",
              "      <td>0</td>\n",
              "      <td>0.000000</td>\n",
              "    </tr>\n",
              "    <tr>\n",
              "      <th>32525</th>\n",
              "      <td>7202996</td>\n",
              "      <td>72</td>\n",
              "      <td>Puerto Rico</td>\n",
              "      <td>PR</td>\n",
              "      <td>Adjuntas Municipio</td>\n",
              "      <td>Aguadilla</td>\n",
              "      <td>Adjuntas</td>\n",
              "      <td>Track</td>\n",
              "      <td>Track</td>\n",
              "      <td>603</td>\n",
              "      <td>787</td>\n",
              "      <td>6476604</td>\n",
              "      <td>2717115</td>\n",
              "      <td>18.478094</td>\n",
              "      <td>-67.160453</td>\n",
              "      <td>28049</td>\n",
              "      <td>20229</td>\n",
              "      <td>33333</td>\n",
              "      <td>512.884803</td>\n",
              "    </tr>\n",
              "  </tbody>\n",
              "</table>\n",
              "<p>32526 rows × 19 columns</p>\n",
              "</div>"
            ],
            "text/plain": [
              "            id  State_Code   State_Name  ... Median  Stdev        sum_w\n",
              "0      1011000           1      Alabama  ...  30506  33101  1638.260513\n",
              "1      1011010           1      Alabama  ...  19528  43789   258.017685\n",
              "2      1011020           1      Alabama  ...  31930  57348   926.031000\n",
              "3      1011030           1      Alabama  ...  52814  47707   378.114619\n",
              "4      1011040           1      Alabama  ...  67225  54270   282.320328\n",
              "...        ...         ...          ...  ...    ...    ...          ...\n",
              "32521   720296          72  Puerto Rico  ...  13729  37977  1321.278082\n",
              "32522  7202966          72  Puerto Rico  ...   9923  15541   238.813450\n",
              "32523  7202976          72  Puerto Rico  ...  34054  31539   313.551070\n",
              "32524  7202986          72  Puerto Rico  ...      0      0     0.000000\n",
              "32525  7202996          72  Puerto Rico  ...  20229  33333   512.884803\n",
              "\n",
              "[32526 rows x 19 columns]"
            ]
          },
          "metadata": {
            "tags": []
          },
          "execution_count": 17
        }
      ]
    }
  ]
}